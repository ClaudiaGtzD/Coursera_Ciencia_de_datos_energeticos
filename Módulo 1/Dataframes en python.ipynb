{
 "cells": [
  {
   "cell_type": "markdown",
   "metadata": {},
   "source": [
    "# 1. La librería *pandas*\n",
    "\n",
    "La librería *pandas* provee una gran colección de objetos y funciones para la manipulación de datos organizados en forma de tablas. Puede consultar una guía rápida sobre esta librería en \n",
    "[https://pandas.pydata.org/docs/user_guide/10min.html](https://pandas.pydata.org/docs/user_guide/10min.html)\n",
    "\n",
    "En este notebook emplearemos, además de la librería pandas, las librerías numpy y pyplot:\n"
   ]
  },
  {
   "cell_type": "code",
   "execution_count": 1,
   "metadata": {},
   "outputs": [],
   "source": [
    "import pandas as pd                # manipulación de datos \n",
    "import numpy as np                 # librería numérica\n",
    "import matplotlib.pyplot as plt    # librería de graficación"
   ]
  },
  {
   "cell_type": "markdown",
   "metadata": {},
   "source": [
    "# 2. El objeto *Series*\n",
    "\n",
    "El objeto [*Series*](https://pandas.pydata.org/docs/reference/api/pandas.Series.html#pandas.Series), de la librería *pandas* es un arreglo unidimensional en el que los elementos están etiquetados. El arreglo puede contener cualquier tipo de datos, y la etiqueta se denomina **index**. El valor almacenado en el arreglo se puede recuperar usando el **index**.\n",
    "\n",
    "## 2.1. Definición de una serie\n",
    "\n",
    "Una forma de crear una serie es especificando su contenido. Si no se especifica el **index**, se asigna un número entero que inicia en 0."
   ]
  },
  {
   "cell_type": "code",
   "execution_count": 2,
   "metadata": {},
   "outputs": [
    {
     "data": {
      "text/plain": [
       "0    11\n",
       "1    12\n",
       "2    13\n",
       "3    14\n",
       "4    15\n",
       "dtype: int64"
      ]
     },
     "execution_count": 2,
     "metadata": {},
     "output_type": "execute_result"
    }
   ],
   "source": [
    "# Ejemplo: serie sin especificar index\n",
    "s1 = pd.Series([11,12,13,14,15])\n",
    "s1"
   ]
  },
  {
   "cell_type": "markdown",
   "metadata": {},
   "source": [
    "El índice se puede especificar como un arreglo de tamaño adecuado"
   ]
  },
  {
   "cell_type": "code",
   "execution_count": 3,
   "metadata": {},
   "outputs": [
    {
     "name": "stdout",
     "output_type": "stream",
     "text": [
      "a    11\n",
      "b    12\n",
      "c    13\n",
      "d    14\n",
      "e    15\n",
      "dtype: int64\n",
      "\n",
      "El index de s2:\n",
      "Index(['a', 'b', 'c', 'd', 'e'], dtype='object')\n"
     ]
    }
   ],
   "source": [
    "# Ejemplo: la misma serie, pero especificando un index:\n",
    "s2 = pd.Series([11,12,13,14,15], index=[\"a\", \"b\", \"c\", \"d\", \"e\"])\n",
    "print(s2)\n",
    "\n",
    "# El index es un arreglo\n",
    "print(\"\\nEl index de s2:\")\n",
    "print(s2.index)\n"
   ]
  },
  {
   "cell_type": "markdown",
   "metadata": {},
   "source": [
    "## 2.1 Acceso al contenido de la serie\n",
    "\n",
    "Hay dos formas de acceder al contenido de la serie:\n",
    "* mediante el índice\n",
    "* mediante la ubicación\n",
    "\n",
    "### 2.2.1 Acceso mediante el índice\n",
    "Puede especificarse el valor del índice, o un rango de valores, para recuperar el contenido de la serie.\n"
   ]
  },
  {
   "cell_type": "code",
   "execution_count": 4,
   "metadata": {},
   "outputs": [
    {
     "name": "stdout",
     "output_type": "stream",
     "text": [
      "\n",
      " la Serie s1:\n",
      "0    11\n",
      "1    12\n",
      "2    13\n",
      "3    14\n",
      "4    15\n",
      "dtype: int64\n",
      "\n",
      "El contenido de s1 para el índice 1:\n",
      "12\n",
      "\n",
      "El contenido de s1 para los valores del índice entre 1 y 4\n",
      " (incluye al 1 pero no incluye al 4)\n",
      "1    12\n",
      "2    13\n",
      "3    14\n",
      "dtype: int64\n",
      "2    13\n",
      "1    12\n",
      "dtype: int64\n"
     ]
    }
   ],
   "source": [
    "print(\"\\n la Serie s1:\")\n",
    "print(s1)\n",
    "\n",
    "# Uso del index para recuparar un valor:\n",
    "print(\"\\nEl contenido de s1 para el índice 1:\")\n",
    "print(s1[1])\n",
    "\n",
    "# Uso del index para recuparar varios valores:\n",
    "print(\"\\nEl contenido de s1 para los valores del índice entre 1 y 4\\n (incluye al 1 pero no incluye al 4)\")\n",
    "print(s1[1:4])\n",
    "\n",
    "print(s1[[2,1]])"
   ]
  },
  {
   "cell_type": "markdown",
   "metadata": {},
   "source": [
    "### 2.2.2. Acceso mediante la ubicación\n",
    "\n",
    "Es posible acceder al contenido de la serie mediante el arreglo de enteros **iloc**. \n"
   ]
  },
  {
   "cell_type": "code",
   "execution_count": 5,
   "metadata": {},
   "outputs": [
    {
     "name": "stdout",
     "output_type": "stream",
     "text": [
      "\n",
      " la Serie s2:\n",
      "a    11\n",
      "b    12\n",
      "c    13\n",
      "d    14\n",
      "e    15\n",
      "dtype: int64\n",
      "\n",
      "El contenido de s2 en la posición 1 (la posición inicial es 0):\n",
      "12\n",
      "\n",
      "El contenido de s2 para los valores en las posiciones entre 1 y 4\n",
      " (incluye al 1 pero no incluye al 4)\n",
      "1    12\n",
      "2    13\n",
      "3    14\n",
      "dtype: int64\n",
      "4    15\n",
      "0    11\n",
      "dtype: int64\n"
     ]
    }
   ],
   "source": [
    "print(\"\\n la Serie s2:\")\n",
    "print(s2)\n",
    "\n",
    "# Uso del iloc para recuparar un valor según su posición:\n",
    "print(\"\\nEl contenido de s2 en la posición 1 (la posición inicial es 0):\")\n",
    "print(s1.iloc[1])\n",
    "\n",
    "# Uso del iloc para recuparar varios valores según su posición:\n",
    "print(\"\\nEl contenido de s2 para los valores en las posiciones entre 1 y 4\\n (incluye al 1 pero no incluye al 4)\")\n",
    "print(s1.iloc[1:4])\n",
    "\n",
    "print(s1.iloc[[4,0]])\n"
   ]
  },
  {
   "cell_type": "markdown",
   "metadata": {},
   "source": [
    "# 3. El objeto *Dataframe*\n",
    "\n",
    "El objeto [*Dataframe*](https://pandas.pydata.org/docs/reference/api/pandas.DataFrame.html#pandas.DataFrame) de la librería *pandas* es un arreglo de dos dimensiones que también tiene un **index**. \n",
    "\n",
    "Los nombres de las columnas se almacenan en el arreglo **columns**. Cada columna contiene datos de un mismo tipo, pero columnas diferentes pueden tener tipos diferentes.\n",
    "\n",
    "Debido a que los datos que puede alojar son heterogéneos, un *Dataframe* es un objeto muy versátil con el que se pueden implementar tablas multidimensionales (tablas de tablas). Además, la colección de funciones disponibles permite una manipulación potente de los datos con muy pocas líneas de código."
   ]
  },
  {
   "cell_type": "code",
   "execution_count": 6,
   "metadata": {},
   "outputs": [
    {
     "data": {
      "text/html": [
       "<div>\n",
       "<style scoped>\n",
       "    .dataframe tbody tr th:only-of-type {\n",
       "        vertical-align: middle;\n",
       "    }\n",
       "\n",
       "    .dataframe tbody tr th {\n",
       "        vertical-align: top;\n",
       "    }\n",
       "\n",
       "    .dataframe thead th {\n",
       "        text-align: right;\n",
       "    }\n",
       "</style>\n",
       "<table border=\"1\" class=\"dataframe\">\n",
       "  <thead>\n",
       "    <tr style=\"text-align: right;\">\n",
       "      <th></th>\n",
       "      <th>A</th>\n",
       "      <th>B</th>\n",
       "    </tr>\n",
       "  </thead>\n",
       "  <tbody>\n",
       "    <tr>\n",
       "      <th>0</th>\n",
       "      <td>11</td>\n",
       "      <td>a</td>\n",
       "    </tr>\n",
       "    <tr>\n",
       "      <th>1</th>\n",
       "      <td>12</td>\n",
       "      <td>b</td>\n",
       "    </tr>\n",
       "    <tr>\n",
       "      <th>2</th>\n",
       "      <td>13</td>\n",
       "      <td>c</td>\n",
       "    </tr>\n",
       "    <tr>\n",
       "      <th>3</th>\n",
       "      <td>14</td>\n",
       "      <td>d</td>\n",
       "    </tr>\n",
       "    <tr>\n",
       "      <th>4</th>\n",
       "      <td>15</td>\n",
       "      <td>e</td>\n",
       "    </tr>\n",
       "  </tbody>\n",
       "</table>\n",
       "</div>"
      ],
      "text/plain": [
       "    A  B\n",
       "0  11  a\n",
       "1  12  b\n",
       "2  13  c\n",
       "3  14  d\n",
       "4  15  e"
      ]
     },
     "execution_count": 6,
     "metadata": {},
     "output_type": "execute_result"
    }
   ],
   "source": [
    "dF1=pd.DataFrame({\"A\":[11, 12, 13, 14, 15],\n",
    "                  \"B\":['a','b','c','d','e']})\n",
    "dF1"
   ]
  },
  {
   "cell_type": "code",
   "execution_count": 7,
   "metadata": {},
   "outputs": [
    {
     "name": "stdout",
     "output_type": "stream",
     "text": [
      "\n",
      "Las columnas:\n",
      "Index(['A', 'B'], dtype='object')\n",
      "\n",
      "El índice:\n",
      "RangeIndex(start=0, stop=5, step=1)\n"
     ]
    }
   ],
   "source": [
    "print(\"\\nLas columnas:\")\n",
    "print(dF1.columns)\n",
    "\n",
    "print(\"\\nEl índice:\")\n",
    "print(dF1.index)"
   ]
  },
  {
   "cell_type": "markdown",
   "metadata": {},
   "source": [
    "## 3.1. Construcción de dataframes desde archivos\n",
    "\n",
    "Usualmente los datos están disponibles en uno o más archivos locales o en la red. En este laboratorio usaremos un archivo local de prueba \"data.csv\" (*comma-separated values*). Podemos explorar las primeras líneas del archivo:"
   ]
  },
  {
   "cell_type": "code",
   "execution_count": 8,
   "metadata": {},
   "outputs": [
    {
     "name": "stdout",
     "output_type": "stream",
     "text": [
      "DEPARTAMENTO,MUNICIPIO,POBLACIÓN,ALTITUD,CLIMA,PESO\n",
      "\n",
      "Bogotá Distrito Capital,Bogotá Distrito Capital,8380801,2640,Frío,0.162538615116029\n",
      "\n",
      "Antioquia,Medellín,2569007,1405,Templado,0.0513722058494791\n",
      "\n"
     ]
    }
   ],
   "source": [
    "filename = \"data.csv\"\n",
    "f = open(filename, \"r\")\n",
    "l1=f.readline()\n",
    "l2=f.readline()\n",
    "l3=f.readline()\n",
    "print(l1)\n",
    "print(l2)\n",
    "print(l3)"
   ]
  },
  {
   "cell_type": "markdown",
   "metadata": {},
   "source": [
    "Para construir un Dataframe con los datos del archivo, empleamos la función **read_csv()**"
   ]
  },
  {
   "cell_type": "code",
   "execution_count": 9,
   "metadata": {},
   "outputs": [
    {
     "data": {
      "text/html": [
       "<div>\n",
       "<style scoped>\n",
       "    .dataframe tbody tr th:only-of-type {\n",
       "        vertical-align: middle;\n",
       "    }\n",
       "\n",
       "    .dataframe tbody tr th {\n",
       "        vertical-align: top;\n",
       "    }\n",
       "\n",
       "    .dataframe thead th {\n",
       "        text-align: right;\n",
       "    }\n",
       "</style>\n",
       "<table border=\"1\" class=\"dataframe\">\n",
       "  <thead>\n",
       "    <tr style=\"text-align: right;\">\n",
       "      <th></th>\n",
       "      <th>DEPARTAMENTO</th>\n",
       "      <th>MUNICIPIO</th>\n",
       "      <th>POBLACIÓN</th>\n",
       "      <th>ALTITUD</th>\n",
       "      <th>CLIMA</th>\n",
       "      <th>PESO</th>\n",
       "    </tr>\n",
       "  </thead>\n",
       "  <tbody>\n",
       "    <tr>\n",
       "      <th>0</th>\n",
       "      <td>Bogotá Distrito Capital</td>\n",
       "      <td>Bogotá Distrito Capital</td>\n",
       "      <td>8380801</td>\n",
       "      <td>2640</td>\n",
       "      <td>Frío</td>\n",
       "      <td>0.162539</td>\n",
       "    </tr>\n",
       "    <tr>\n",
       "      <th>1</th>\n",
       "      <td>Antioquia</td>\n",
       "      <td>Medellín</td>\n",
       "      <td>2569007</td>\n",
       "      <td>1405</td>\n",
       "      <td>Templado</td>\n",
       "      <td>0.051372</td>\n",
       "    </tr>\n",
       "    <tr>\n",
       "      <th>2</th>\n",
       "      <td>Valle Del Cauca</td>\n",
       "      <td>Cali</td>\n",
       "      <td>2496442</td>\n",
       "      <td>926</td>\n",
       "      <td>Cálido seco</td>\n",
       "      <td>0.049261</td>\n",
       "    </tr>\n",
       "    <tr>\n",
       "      <th>3</th>\n",
       "      <td>Atlántico</td>\n",
       "      <td>Barranquilla</td>\n",
       "      <td>1239518</td>\n",
       "      <td>24</td>\n",
       "      <td>Cálido húmedo</td>\n",
       "      <td>0.025772</td>\n",
       "    </tr>\n",
       "    <tr>\n",
       "      <th>4</th>\n",
       "      <td>Bolívar</td>\n",
       "      <td>Cartagena de Indias</td>\n",
       "      <td>1057445</td>\n",
       "      <td>1</td>\n",
       "      <td>Cálido húmedo</td>\n",
       "      <td>0.020761</td>\n",
       "    </tr>\n",
       "    <tr>\n",
       "      <th>...</th>\n",
       "      <td>...</td>\n",
       "      <td>...</td>\n",
       "      <td>...</td>\n",
       "      <td>...</td>\n",
       "      <td>...</td>\n",
       "      <td>...</td>\n",
       "    </tr>\n",
       "    <tr>\n",
       "      <th>1117</th>\n",
       "      <td>Boyacá</td>\n",
       "      <td>Busbanzá</td>\n",
       "      <td>1324</td>\n",
       "      <td>2500</td>\n",
       "      <td>Frío</td>\n",
       "      <td>0.000023</td>\n",
       "    </tr>\n",
       "    <tr>\n",
       "      <th>1118</th>\n",
       "      <td>Guainía</td>\n",
       "      <td>Morichal</td>\n",
       "      <td>1495</td>\n",
       "      <td>198</td>\n",
       "      <td>Cálido húmedo</td>\n",
       "      <td>0.000022</td>\n",
       "    </tr>\n",
       "    <tr>\n",
       "      <th>1119</th>\n",
       "      <td>Vaupés</td>\n",
       "      <td>Taraira</td>\n",
       "      <td>937</td>\n",
       "      <td>100</td>\n",
       "      <td>Cálido húmedo</td>\n",
       "      <td>0.000021</td>\n",
       "    </tr>\n",
       "    <tr>\n",
       "      <th>1120</th>\n",
       "      <td>Vaupés</td>\n",
       "      <td>Papunaua</td>\n",
       "      <td>825</td>\n",
       "      <td>206</td>\n",
       "      <td>Cálido húmedo</td>\n",
       "      <td>0.000018</td>\n",
       "    </tr>\n",
       "    <tr>\n",
       "      <th>1121</th>\n",
       "      <td>Guainía</td>\n",
       "      <td>La Guadalupe</td>\n",
       "      <td>450</td>\n",
       "      <td>96</td>\n",
       "      <td>Cálido húmedo</td>\n",
       "      <td>0.000007</td>\n",
       "    </tr>\n",
       "  </tbody>\n",
       "</table>\n",
       "<p>1122 rows × 6 columns</p>\n",
       "</div>"
      ],
      "text/plain": [
       "                 DEPARTAMENTO                MUNICIPIO  POBLACIÓN  ALTITUD  \\\n",
       "0     Bogotá Distrito Capital  Bogotá Distrito Capital    8380801     2640   \n",
       "1                   Antioquia                 Medellín    2569007     1405   \n",
       "2             Valle Del Cauca                     Cali    2496442      926   \n",
       "3                   Atlántico             Barranquilla    1239518       24   \n",
       "4                     Bolívar      Cartagena de Indias    1057445        1   \n",
       "...                       ...                      ...        ...      ...   \n",
       "1117                   Boyacá                 Busbanzá       1324     2500   \n",
       "1118                  Guainía                Morichal        1495      198   \n",
       "1119                   Vaupés                  Taraira        937      100   \n",
       "1120                   Vaupés                Papunaua         825      206   \n",
       "1121                  Guainía            La Guadalupe         450       96   \n",
       "\n",
       "              CLIMA      PESO  \n",
       "0              Frío  0.162539  \n",
       "1          Templado  0.051372  \n",
       "2       Cálido seco  0.049261  \n",
       "3     Cálido húmedo  0.025772  \n",
       "4     Cálido húmedo  0.020761  \n",
       "...             ...       ...  \n",
       "1117           Frío  0.000023  \n",
       "1118  Cálido húmedo  0.000022  \n",
       "1119  Cálido húmedo  0.000021  \n",
       "1120  Cálido húmedo  0.000018  \n",
       "1121  Cálido húmedo  0.000007  \n",
       "\n",
       "[1122 rows x 6 columns]"
      ]
     },
     "execution_count": 9,
     "metadata": {},
     "output_type": "execute_result"
    }
   ],
   "source": [
    "DF=pd.read_csv(filename)\n",
    "DF"
   ]
  },
  {
   "cell_type": "markdown",
   "metadata": {},
   "source": [
    "## 3.2 Funciones informativas\n",
    "\n",
    "La clase *Dataframe* proporciona varias funciones que proveen información útil para entender su contenido. Por ejemplo:\n",
    "* **head()**: muestra los primeros registros (líneas).\n",
    "* **tail()**: muestra los últimos registros (líneas).\n",
    "* **info()**: muestra la estructura del *Dataframe*, es decir las columnas y el tipo de datos de cada una de ellas.\n",
    "* **describe()**: muestra algunas medidas de tendencia y dispersión de las columnas de tipo numérico.\n",
    "\n",
    "Además, la clase *Dataframe* incluye algunos parámetros útiles como:\n",
    "* **shape**: un arreglo que muestra la forma del *Dataframe*, es decir, el número de filas y columnas\n",
    "* **size**: el numero de elementos en el *Dataframe*\n"
   ]
  },
  {
   "cell_type": "code",
   "execution_count": 10,
   "metadata": {},
   "outputs": [
    {
     "data": {
      "text/html": [
       "<div>\n",
       "<style scoped>\n",
       "    .dataframe tbody tr th:only-of-type {\n",
       "        vertical-align: middle;\n",
       "    }\n",
       "\n",
       "    .dataframe tbody tr th {\n",
       "        vertical-align: top;\n",
       "    }\n",
       "\n",
       "    .dataframe thead th {\n",
       "        text-align: right;\n",
       "    }\n",
       "</style>\n",
       "<table border=\"1\" class=\"dataframe\">\n",
       "  <thead>\n",
       "    <tr style=\"text-align: right;\">\n",
       "      <th></th>\n",
       "      <th>DEPARTAMENTO</th>\n",
       "      <th>MUNICIPIO</th>\n",
       "      <th>POBLACIÓN</th>\n",
       "      <th>ALTITUD</th>\n",
       "      <th>CLIMA</th>\n",
       "      <th>PESO</th>\n",
       "    </tr>\n",
       "  </thead>\n",
       "  <tbody>\n",
       "    <tr>\n",
       "      <th>0</th>\n",
       "      <td>Bogotá Distrito Capital</td>\n",
       "      <td>Bogotá Distrito Capital</td>\n",
       "      <td>8380801</td>\n",
       "      <td>2640</td>\n",
       "      <td>Frío</td>\n",
       "      <td>0.162539</td>\n",
       "    </tr>\n",
       "    <tr>\n",
       "      <th>1</th>\n",
       "      <td>Antioquia</td>\n",
       "      <td>Medellín</td>\n",
       "      <td>2569007</td>\n",
       "      <td>1405</td>\n",
       "      <td>Templado</td>\n",
       "      <td>0.051372</td>\n",
       "    </tr>\n",
       "    <tr>\n",
       "      <th>2</th>\n",
       "      <td>Valle Del Cauca</td>\n",
       "      <td>Cali</td>\n",
       "      <td>2496442</td>\n",
       "      <td>926</td>\n",
       "      <td>Cálido seco</td>\n",
       "      <td>0.049261</td>\n",
       "    </tr>\n",
       "  </tbody>\n",
       "</table>\n",
       "</div>"
      ],
      "text/plain": [
       "              DEPARTAMENTO                MUNICIPIO  POBLACIÓN  ALTITUD  \\\n",
       "0  Bogotá Distrito Capital  Bogotá Distrito Capital    8380801     2640   \n",
       "1                Antioquia                 Medellín    2569007     1405   \n",
       "2          Valle Del Cauca                     Cali    2496442      926   \n",
       "\n",
       "         CLIMA      PESO  \n",
       "0         Frío  0.162539  \n",
       "1     Templado  0.051372  \n",
       "2  Cálido seco  0.049261  "
      ]
     },
     "execution_count": 10,
     "metadata": {},
     "output_type": "execute_result"
    }
   ],
   "source": [
    "DF.head(3)"
   ]
  },
  {
   "cell_type": "code",
   "execution_count": 11,
   "metadata": {},
   "outputs": [
    {
     "data": {
      "text/html": [
       "<div>\n",
       "<style scoped>\n",
       "    .dataframe tbody tr th:only-of-type {\n",
       "        vertical-align: middle;\n",
       "    }\n",
       "\n",
       "    .dataframe tbody tr th {\n",
       "        vertical-align: top;\n",
       "    }\n",
       "\n",
       "    .dataframe thead th {\n",
       "        text-align: right;\n",
       "    }\n",
       "</style>\n",
       "<table border=\"1\" class=\"dataframe\">\n",
       "  <thead>\n",
       "    <tr style=\"text-align: right;\">\n",
       "      <th></th>\n",
       "      <th>DEPARTAMENTO</th>\n",
       "      <th>MUNICIPIO</th>\n",
       "      <th>POBLACIÓN</th>\n",
       "      <th>ALTITUD</th>\n",
       "      <th>CLIMA</th>\n",
       "      <th>PESO</th>\n",
       "    </tr>\n",
       "  </thead>\n",
       "  <tbody>\n",
       "    <tr>\n",
       "      <th>1119</th>\n",
       "      <td>Vaupés</td>\n",
       "      <td>Taraira</td>\n",
       "      <td>937</td>\n",
       "      <td>100</td>\n",
       "      <td>Cálido húmedo</td>\n",
       "      <td>0.000021</td>\n",
       "    </tr>\n",
       "    <tr>\n",
       "      <th>1120</th>\n",
       "      <td>Vaupés</td>\n",
       "      <td>Papunaua</td>\n",
       "      <td>825</td>\n",
       "      <td>206</td>\n",
       "      <td>Cálido húmedo</td>\n",
       "      <td>0.000018</td>\n",
       "    </tr>\n",
       "    <tr>\n",
       "      <th>1121</th>\n",
       "      <td>Guainía</td>\n",
       "      <td>La Guadalupe</td>\n",
       "      <td>450</td>\n",
       "      <td>96</td>\n",
       "      <td>Cálido húmedo</td>\n",
       "      <td>0.000007</td>\n",
       "    </tr>\n",
       "  </tbody>\n",
       "</table>\n",
       "</div>"
      ],
      "text/plain": [
       "     DEPARTAMENTO      MUNICIPIO  POBLACIÓN  ALTITUD          CLIMA      PESO\n",
       "1119       Vaupés        Taraira        937      100  Cálido húmedo  0.000021\n",
       "1120       Vaupés      Papunaua         825      206  Cálido húmedo  0.000018\n",
       "1121      Guainía  La Guadalupe         450       96  Cálido húmedo  0.000007"
      ]
     },
     "execution_count": 11,
     "metadata": {},
     "output_type": "execute_result"
    }
   ],
   "source": [
    "DF.tail(3)"
   ]
  },
  {
   "cell_type": "code",
   "execution_count": 12,
   "metadata": {},
   "outputs": [
    {
     "name": "stdout",
     "output_type": "stream",
     "text": [
      "<class 'pandas.core.frame.DataFrame'>\n",
      "RangeIndex: 1122 entries, 0 to 1121\n",
      "Data columns (total 6 columns):\n",
      " #   Column        Non-Null Count  Dtype  \n",
      "---  ------        --------------  -----  \n",
      " 0   DEPARTAMENTO  1122 non-null   object \n",
      " 1   MUNICIPIO     1122 non-null   object \n",
      " 2   POBLACIÓN     1122 non-null   int64  \n",
      " 3   ALTITUD       1122 non-null   int64  \n",
      " 4   CLIMA         1122 non-null   object \n",
      " 5   PESO          1122 non-null   float64\n",
      "dtypes: float64(1), int64(2), object(3)\n",
      "memory usage: 52.7+ KB\n"
     ]
    }
   ],
   "source": [
    "DF.info()"
   ]
  },
  {
   "cell_type": "code",
   "execution_count": 13,
   "metadata": {},
   "outputs": [
    {
     "data": {
      "text/html": [
       "<div>\n",
       "<style scoped>\n",
       "    .dataframe tbody tr th:only-of-type {\n",
       "        vertical-align: middle;\n",
       "    }\n",
       "\n",
       "    .dataframe tbody tr th {\n",
       "        vertical-align: top;\n",
       "    }\n",
       "\n",
       "    .dataframe thead th {\n",
       "        text-align: right;\n",
       "    }\n",
       "</style>\n",
       "<table border=\"1\" class=\"dataframe\">\n",
       "  <thead>\n",
       "    <tr style=\"text-align: right;\">\n",
       "      <th></th>\n",
       "      <th>POBLACIÓN</th>\n",
       "      <th>ALTITUD</th>\n",
       "      <th>PESO</th>\n",
       "    </tr>\n",
       "  </thead>\n",
       "  <tbody>\n",
       "    <tr>\n",
       "      <th>count</th>\n",
       "      <td>1.122000e+03</td>\n",
       "      <td>1122.000000</td>\n",
       "      <td>1122.000000</td>\n",
       "    </tr>\n",
       "    <tr>\n",
       "      <th>mean</th>\n",
       "      <td>4.537589e+04</td>\n",
       "      <td>1125.246881</td>\n",
       "      <td>0.000891</td>\n",
       "    </tr>\n",
       "    <tr>\n",
       "      <th>std</th>\n",
       "      <td>2.829817e+05</td>\n",
       "      <td>924.210987</td>\n",
       "      <td>0.005510</td>\n",
       "    </tr>\n",
       "    <tr>\n",
       "      <th>min</th>\n",
       "      <td>4.500000e+02</td>\n",
       "      <td>1.000000</td>\n",
       "      <td>0.000007</td>\n",
       "    </tr>\n",
       "    <tr>\n",
       "      <th>25%</th>\n",
       "      <td>6.480250e+03</td>\n",
       "      <td>175.250000</td>\n",
       "      <td>0.000145</td>\n",
       "    </tr>\n",
       "    <tr>\n",
       "      <th>50%</th>\n",
       "      <td>1.379350e+04</td>\n",
       "      <td>1095.000000</td>\n",
       "      <td>0.000281</td>\n",
       "    </tr>\n",
       "    <tr>\n",
       "      <th>75%</th>\n",
       "      <td>2.771925e+04</td>\n",
       "      <td>1845.750000</td>\n",
       "      <td>0.000551</td>\n",
       "    </tr>\n",
       "    <tr>\n",
       "      <th>max</th>\n",
       "      <td>8.380801e+06</td>\n",
       "      <td>3300.000000</td>\n",
       "      <td>0.162539</td>\n",
       "    </tr>\n",
       "  </tbody>\n",
       "</table>\n",
       "</div>"
      ],
      "text/plain": [
       "          POBLACIÓN      ALTITUD         PESO\n",
       "count  1.122000e+03  1122.000000  1122.000000\n",
       "mean   4.537589e+04  1125.246881     0.000891\n",
       "std    2.829817e+05   924.210987     0.005510\n",
       "min    4.500000e+02     1.000000     0.000007\n",
       "25%    6.480250e+03   175.250000     0.000145\n",
       "50%    1.379350e+04  1095.000000     0.000281\n",
       "75%    2.771925e+04  1845.750000     0.000551\n",
       "max    8.380801e+06  3300.000000     0.162539"
      ]
     },
     "execution_count": 13,
     "metadata": {},
     "output_type": "execute_result"
    }
   ],
   "source": [
    "DF.describe()"
   ]
  },
  {
   "cell_type": "code",
   "execution_count": 14,
   "metadata": {},
   "outputs": [
    {
     "name": "stdout",
     "output_type": "stream",
     "text": [
      "Forma del Dataframe:\n",
      "(1122, 6)\n",
      "Número de filas:\n",
      "1122\n",
      "Número de columnas:\n",
      "6\n",
      "\n",
      "Número de elementos en el Dataframe:\n",
      "6732\n"
     ]
    }
   ],
   "source": [
    "print(\"Forma del Dataframe:\")\n",
    "print(DF.shape)\n",
    "\n",
    "print(\"Número de filas:\")\n",
    "print(DF.shape[0])\n",
    "\n",
    "print(\"Número de columnas:\")\n",
    "print(DF.shape[1])\n",
    "\n",
    "print(\"\\nNúmero de elementos en el Dataframe:\")\n",
    "print(DF.size)\n"
   ]
  },
  {
   "cell_type": "markdown",
   "metadata": {},
   "source": [
    "### 3.2.3. Histogramas\n",
    "\n",
    "La clase *Dataframe* también incluye la función **hist()** con ka que se puede dibujar los histogramas de los datos que están en columnas de tipo numérico:"
   ]
  },
  {
   "cell_type": "code",
   "execution_count": 15,
   "metadata": {},
   "outputs": [
    {
     "name": "stdout",
     "output_type": "stream",
     "text": [
      "Histograma de todas las columnas numéricas\n"
     ]
    },
    {
     "data": {
      "image/png": "[encoded data removed]",
      "text/plain": [
       "<Figure size 432x288 with 4 Axes>"
      ]
     },
     "metadata": {
      "needs_background": "light"
     },
     "output_type": "display_data"
    },
    {
     "name": "stdout",
     "output_type": "stream",
     "text": [
      "Histograma de una columna\n"
     ]
    },
    {
     "data": {
      "image/png": "[encoded data removed]",
      "text/plain": [
       "<Figure size 432x288 with 1 Axes>"
      ]
     },
     "metadata": {
      "needs_background": "light"
     },
     "output_type": "display_data"
    }
   ],
   "source": [
    "print(\"Histograma de todas las columnas numéricas\")\n",
    "DF.hist()\n",
    "plt.show()\n",
    "\n",
    "print(\"Histograma de una columna\")\n",
    "DF['ALTITUD'].hist()\n",
    "plt.show()"
   ]
  },
  {
   "cell_type": "markdown",
   "metadata": {},
   "source": [
    "### 3.2.2. Los ejes\n",
    "\n",
    "Las funciones que efectúan cálculos sobre variabes numéricas suelen tener al argumento opcional **axis**. Para tablas simples, ese parámetro permite realizar los cálculos por columnas (**axis=0** ó **axis='index'**) o por filas (**axis=1** ó **axis='columns'**).\n",
    "\n",
    "Algunas de estas funciones son \n",
    "* **mean()** : calcula el valor medio\n",
    "* **median()** : calcula la mediana\n",
    "* **min()** : calcula el valor mínimo\n",
    "* **max()** : calcula el valor máximo\n",
    "* **sum()** : calcula la suma\n",
    "* **std()** : calcula la desiación estándar\n"
   ]
  },
  {
   "cell_type": "code",
   "execution_count": 16,
   "metadata": {},
   "outputs": [
    {
     "data": {
      "text/plain": [
       "POBLACIÓN    45375.888592\n",
       "ALTITUD       1125.246881\n",
       "PESO             0.000891\n",
       "dtype: float64"
      ]
     },
     "execution_count": 16,
     "metadata": {},
     "output_type": "execute_result"
    }
   ],
   "source": [
    "DF.mean(axis=0)\n",
    "#DF[[\"POBLACIÓN\",\"ALTITUD\",\"PESO\"]].mean(axis=0)"
   ]
  },
  {
   "cell_type": "code",
   "execution_count": 17,
   "metadata": {},
   "outputs": [
    {
     "data": {
      "text/plain": [
       "0       2.794480e+06\n",
       "1       8.568040e+05\n",
       "2       8.324560e+05\n",
       "3       4.131807e+05\n",
       "4       3.524820e+05\n",
       "            ...     \n",
       "1117    1.274667e+03\n",
       "1118    5.643333e+02\n",
       "1119    3.456667e+02\n",
       "1120    3.436667e+02\n",
       "1121    1.820000e+02\n",
       "Length: 1122, dtype: float64"
      ]
     },
     "execution_count": 17,
     "metadata": {},
     "output_type": "execute_result"
    }
   ],
   "source": [
    "DF[[\"POBLACIÓN\",\"ALTITUD\",\"PESO\"]].mean(axis=1)"
   ]
  },
  {
   "cell_type": "markdown",
   "metadata": {},
   "source": [
    "## 3.3 Recuperación de la información en un dataframe\n",
    "\n",
    "### 3.3.1. Selección de columnas\n",
    "Se puede obtener un *Dataframe* con un subconjunto de las columnas originales, usando una lista con los nombres de las columnas deseadas."
   ]
  },
  {
   "cell_type": "code",
   "execution_count": 18,
   "metadata": {},
   "outputs": [
    {
     "data": {
      "text/html": [
       "<div>\n",
       "<style scoped>\n",
       "    .dataframe tbody tr th:only-of-type {\n",
       "        vertical-align: middle;\n",
       "    }\n",
       "\n",
       "    .dataframe tbody tr th {\n",
       "        vertical-align: top;\n",
       "    }\n",
       "\n",
       "    .dataframe thead th {\n",
       "        text-align: right;\n",
       "    }\n",
       "</style>\n",
       "<table border=\"1\" class=\"dataframe\">\n",
       "  <thead>\n",
       "    <tr style=\"text-align: right;\">\n",
       "      <th></th>\n",
       "      <th>MUNICIPIO</th>\n",
       "      <th>POBLACIÓN</th>\n",
       "    </tr>\n",
       "  </thead>\n",
       "  <tbody>\n",
       "    <tr>\n",
       "      <th>0</th>\n",
       "      <td>Bogotá Distrito Capital</td>\n",
       "      <td>8380801</td>\n",
       "    </tr>\n",
       "    <tr>\n",
       "      <th>1</th>\n",
       "      <td>Medellín</td>\n",
       "      <td>2569007</td>\n",
       "    </tr>\n",
       "    <tr>\n",
       "      <th>2</th>\n",
       "      <td>Cali</td>\n",
       "      <td>2496442</td>\n",
       "    </tr>\n",
       "    <tr>\n",
       "      <th>3</th>\n",
       "      <td>Barranquilla</td>\n",
       "      <td>1239518</td>\n",
       "    </tr>\n",
       "    <tr>\n",
       "      <th>4</th>\n",
       "      <td>Cartagena de Indias</td>\n",
       "      <td>1057445</td>\n",
       "    </tr>\n",
       "    <tr>\n",
       "      <th>...</th>\n",
       "      <td>...</td>\n",
       "      <td>...</td>\n",
       "    </tr>\n",
       "    <tr>\n",
       "      <th>1117</th>\n",
       "      <td>Busbanzá</td>\n",
       "      <td>1324</td>\n",
       "    </tr>\n",
       "    <tr>\n",
       "      <th>1118</th>\n",
       "      <td>Morichal</td>\n",
       "      <td>1495</td>\n",
       "    </tr>\n",
       "    <tr>\n",
       "      <th>1119</th>\n",
       "      <td>Taraira</td>\n",
       "      <td>937</td>\n",
       "    </tr>\n",
       "    <tr>\n",
       "      <th>1120</th>\n",
       "      <td>Papunaua</td>\n",
       "      <td>825</td>\n",
       "    </tr>\n",
       "    <tr>\n",
       "      <th>1121</th>\n",
       "      <td>La Guadalupe</td>\n",
       "      <td>450</td>\n",
       "    </tr>\n",
       "  </tbody>\n",
       "</table>\n",
       "<p>1122 rows × 2 columns</p>\n",
       "</div>"
      ],
      "text/plain": [
       "                    MUNICIPIO  POBLACIÓN\n",
       "0     Bogotá Distrito Capital    8380801\n",
       "1                    Medellín    2569007\n",
       "2                        Cali    2496442\n",
       "3                Barranquilla    1239518\n",
       "4         Cartagena de Indias    1057445\n",
       "...                       ...        ...\n",
       "1117                 Busbanzá       1324\n",
       "1118                Morichal        1495\n",
       "1119                  Taraira        937\n",
       "1120                Papunaua         825\n",
       "1121            La Guadalupe         450\n",
       "\n",
       "[1122 rows x 2 columns]"
      ]
     },
     "execution_count": 18,
     "metadata": {},
     "output_type": "execute_result"
    }
   ],
   "source": [
    "columnas=[\"MUNICIPIO\",\"POBLACIÓN\"]\n",
    "DF[columnas]\n",
    "#DF[[\"MUNICIPIO\",\"POBLACIÓN\"]]"
   ]
  },
  {
   "cell_type": "markdown",
   "metadata": {},
   "source": [
    "### 3.3.2. Selección de filas mediante el índice\n",
    "Si el índice es entero, e puede obtener un *Dataframe* con un subconjunto de las filas originales, especificando los valores iniciales y finales, usando la siguiente sintaxis:"
   ]
  },
  {
   "cell_type": "code",
   "execution_count": 19,
   "metadata": {},
   "outputs": [
    {
     "data": {
      "text/html": [
       "<div>\n",
       "<style scoped>\n",
       "    .dataframe tbody tr th:only-of-type {\n",
       "        vertical-align: middle;\n",
       "    }\n",
       "\n",
       "    .dataframe tbody tr th {\n",
       "        vertical-align: top;\n",
       "    }\n",
       "\n",
       "    .dataframe thead th {\n",
       "        text-align: right;\n",
       "    }\n",
       "</style>\n",
       "<table border=\"1\" class=\"dataframe\">\n",
       "  <thead>\n",
       "    <tr style=\"text-align: right;\">\n",
       "      <th></th>\n",
       "      <th>DEPARTAMENTO</th>\n",
       "      <th>MUNICIPIO</th>\n",
       "      <th>POBLACIÓN</th>\n",
       "      <th>ALTITUD</th>\n",
       "      <th>CLIMA</th>\n",
       "      <th>PESO</th>\n",
       "    </tr>\n",
       "  </thead>\n",
       "  <tbody>\n",
       "    <tr>\n",
       "      <th>2</th>\n",
       "      <td>Valle Del Cauca</td>\n",
       "      <td>Cali</td>\n",
       "      <td>2496442</td>\n",
       "      <td>926</td>\n",
       "      <td>Cálido seco</td>\n",
       "      <td>0.049261</td>\n",
       "    </tr>\n",
       "    <tr>\n",
       "      <th>3</th>\n",
       "      <td>Atlántico</td>\n",
       "      <td>Barranquilla</td>\n",
       "      <td>1239518</td>\n",
       "      <td>24</td>\n",
       "      <td>Cálido húmedo</td>\n",
       "      <td>0.025772</td>\n",
       "    </tr>\n",
       "    <tr>\n",
       "      <th>4</th>\n",
       "      <td>Bolívar</td>\n",
       "      <td>Cartagena de Indias</td>\n",
       "      <td>1057445</td>\n",
       "      <td>1</td>\n",
       "      <td>Cálido húmedo</td>\n",
       "      <td>0.020761</td>\n",
       "    </tr>\n",
       "    <tr>\n",
       "      <th>5</th>\n",
       "      <td>Norte De Santander</td>\n",
       "      <td>Cúcuta</td>\n",
       "      <td>680568</td>\n",
       "      <td>297</td>\n",
       "      <td>Cálido seco</td>\n",
       "      <td>0.013545</td>\n",
       "    </tr>\n",
       "  </tbody>\n",
       "</table>\n",
       "</div>"
      ],
      "text/plain": [
       "         DEPARTAMENTO            MUNICIPIO  POBLACIÓN  ALTITUD          CLIMA  \\\n",
       "2     Valle Del Cauca                 Cali    2496442      926    Cálido seco   \n",
       "3           Atlántico         Barranquilla    1239518       24  Cálido húmedo   \n",
       "4             Bolívar  Cartagena de Indias    1057445        1  Cálido húmedo   \n",
       "5  Norte De Santander               Cúcuta     680568      297    Cálido seco   \n",
       "\n",
       "       PESO  \n",
       "2  0.049261  \n",
       "3  0.025772  \n",
       "4  0.020761  \n",
       "5  0.013545  "
      ]
     },
     "execution_count": 19,
     "metadata": {},
     "output_type": "execute_result"
    }
   ],
   "source": [
    "DF[2:6]"
   ]
  },
  {
   "cell_type": "markdown",
   "metadata": {},
   "source": [
    "### 3.3.3. Las propiedades loc, iloc, at, iat :\n",
    "Para acceder al contenido del *Dataframe* también pueden usarse las siguientes propiedades:\n",
    "* **loc** : permite acceder a un grupo de filas, mediante el listado de los valores de sus índices.\n",
    "* **iloc** : permite acceder a un grupo de filas, mediante el listado de sus posiciones (la primera fila tiene la posición 0).\n",
    "* **at** : permite acceder a un valor individual, especificando el valor del índices y el nombre de la columna.\n",
    "* **iat** : permite acceder a un valor individual, especificando el número de fila y el número de la columna.\n",
    "\n",
    "Para ilustrar el uso de estas propiedades, primero construimos un nuevo *Dataframe* al que denminamos *dfx*:"
   ]
  },
  {
   "cell_type": "code",
   "execution_count": 20,
   "metadata": {},
   "outputs": [
    {
     "data": {
      "text/html": [
       "<div>\n",
       "<style scoped>\n",
       "    .dataframe tbody tr th:only-of-type {\n",
       "        vertical-align: middle;\n",
       "    }\n",
       "\n",
       "    .dataframe tbody tr th {\n",
       "        vertical-align: top;\n",
       "    }\n",
       "\n",
       "    .dataframe thead th {\n",
       "        text-align: right;\n",
       "    }\n",
       "</style>\n",
       "<table border=\"1\" class=\"dataframe\">\n",
       "  <thead>\n",
       "    <tr style=\"text-align: right;\">\n",
       "      <th></th>\n",
       "      <th>Col 1</th>\n",
       "      <th>Col 2</th>\n",
       "      <th>Col 3</th>\n",
       "    </tr>\n",
       "  </thead>\n",
       "  <tbody>\n",
       "    <tr>\n",
       "      <th>a</th>\n",
       "      <td>0</td>\n",
       "      <td>2</td>\n",
       "      <td>3</td>\n",
       "    </tr>\n",
       "    <tr>\n",
       "      <th>b</th>\n",
       "      <td>0</td>\n",
       "      <td>4</td>\n",
       "      <td>1</td>\n",
       "    </tr>\n",
       "    <tr>\n",
       "      <th>c</th>\n",
       "      <td>10</td>\n",
       "      <td>20</td>\n",
       "      <td>30</td>\n",
       "    </tr>\n",
       "  </tbody>\n",
       "</table>\n",
       "</div>"
      ],
      "text/plain": [
       "   Col 1  Col 2  Col 3\n",
       "a      0      2      3\n",
       "b      0      4      1\n",
       "c     10     20     30"
      ]
     },
     "execution_count": 20,
     "metadata": {},
     "output_type": "execute_result"
    }
   ],
   "source": [
    "dfx = pd.DataFrame([[0, 2, 3], [0, 4, 1], [10, 20, 30]],\n",
    "                  index=['a', 'b', 'c'], columns=['Col 1', 'Col 2', 'Col 3'])\n",
    "dfx"
   ]
  },
  {
   "cell_type": "code",
   "execution_count": 21,
   "metadata": {},
   "outputs": [
    {
     "data": {
      "text/html": [
       "<div>\n",
       "<style scoped>\n",
       "    .dataframe tbody tr th:only-of-type {\n",
       "        vertical-align: middle;\n",
       "    }\n",
       "\n",
       "    .dataframe tbody tr th {\n",
       "        vertical-align: top;\n",
       "    }\n",
       "\n",
       "    .dataframe thead th {\n",
       "        text-align: right;\n",
       "    }\n",
       "</style>\n",
       "<table border=\"1\" class=\"dataframe\">\n",
       "  <thead>\n",
       "    <tr style=\"text-align: right;\">\n",
       "      <th></th>\n",
       "      <th>Col 1</th>\n",
       "      <th>Col 2</th>\n",
       "      <th>Col 3</th>\n",
       "    </tr>\n",
       "  </thead>\n",
       "  <tbody>\n",
       "    <tr>\n",
       "      <th>a</th>\n",
       "      <td>0</td>\n",
       "      <td>2</td>\n",
       "      <td>3</td>\n",
       "    </tr>\n",
       "    <tr>\n",
       "      <th>c</th>\n",
       "      <td>10</td>\n",
       "      <td>20</td>\n",
       "      <td>30</td>\n",
       "    </tr>\n",
       "  </tbody>\n",
       "</table>\n",
       "</div>"
      ],
      "text/plain": [
       "   Col 1  Col 2  Col 3\n",
       "a      0      2      3\n",
       "c     10     20     30"
      ]
     },
     "execution_count": 21,
     "metadata": {},
     "output_type": "execute_result"
    }
   ],
   "source": [
    "dfx.loc[['a','c']]"
   ]
  },
  {
   "cell_type": "code",
   "execution_count": 22,
   "metadata": {},
   "outputs": [
    {
     "data": {
      "text/html": [
       "<div>\n",
       "<style scoped>\n",
       "    .dataframe tbody tr th:only-of-type {\n",
       "        vertical-align: middle;\n",
       "    }\n",
       "\n",
       "    .dataframe tbody tr th {\n",
       "        vertical-align: top;\n",
       "    }\n",
       "\n",
       "    .dataframe thead th {\n",
       "        text-align: right;\n",
       "    }\n",
       "</style>\n",
       "<table border=\"1\" class=\"dataframe\">\n",
       "  <thead>\n",
       "    <tr style=\"text-align: right;\">\n",
       "      <th></th>\n",
       "      <th>Col 1</th>\n",
       "      <th>Col 2</th>\n",
       "      <th>Col 3</th>\n",
       "    </tr>\n",
       "  </thead>\n",
       "  <tbody>\n",
       "    <tr>\n",
       "      <th>c</th>\n",
       "      <td>10</td>\n",
       "      <td>20</td>\n",
       "      <td>30</td>\n",
       "    </tr>\n",
       "    <tr>\n",
       "      <th>a</th>\n",
       "      <td>0</td>\n",
       "      <td>2</td>\n",
       "      <td>3</td>\n",
       "    </tr>\n",
       "  </tbody>\n",
       "</table>\n",
       "</div>"
      ],
      "text/plain": [
       "   Col 1  Col 2  Col 3\n",
       "c     10     20     30\n",
       "a      0      2      3"
      ]
     },
     "execution_count": 22,
     "metadata": {},
     "output_type": "execute_result"
    }
   ],
   "source": [
    "dfx.iloc[[2,0]]"
   ]
  },
  {
   "cell_type": "code",
   "execution_count": 23,
   "metadata": {},
   "outputs": [
    {
     "data": {
      "text/plain": [
       "4"
      ]
     },
     "execution_count": 23,
     "metadata": {},
     "output_type": "execute_result"
    }
   ],
   "source": [
    "dfx.at['b','Col 2']"
   ]
  },
  {
   "cell_type": "code",
   "execution_count": 24,
   "metadata": {},
   "outputs": [
    {
     "data": {
      "text/plain": [
       "1"
      ]
     },
     "execution_count": 24,
     "metadata": {},
     "output_type": "execute_result"
    }
   ],
   "source": [
    "dfx.iat[1,2]"
   ]
  },
  {
   "cell_type": "markdown",
   "metadata": {},
   "source": [
    "### 3.3.4. Filtrado de filas por contenido\n",
    "Es posible construir un *Dataframe* a partir de un conjunto de registros que satizfagan una condición de su contenido."
   ]
  },
  {
   "cell_type": "code",
   "execution_count": 25,
   "metadata": {},
   "outputs": [
    {
     "data": {
      "text/html": [
       "<div>\n",
       "<style scoped>\n",
       "    .dataframe tbody tr th:only-of-type {\n",
       "        vertical-align: middle;\n",
       "    }\n",
       "\n",
       "    .dataframe tbody tr th {\n",
       "        vertical-align: top;\n",
       "    }\n",
       "\n",
       "    .dataframe thead th {\n",
       "        text-align: right;\n",
       "    }\n",
       "</style>\n",
       "<table border=\"1\" class=\"dataframe\">\n",
       "  <thead>\n",
       "    <tr style=\"text-align: right;\">\n",
       "      <th></th>\n",
       "      <th>DEPARTAMENTO</th>\n",
       "      <th>MUNICIPIO</th>\n",
       "      <th>POBLACIÓN</th>\n",
       "      <th>ALTITUD</th>\n",
       "      <th>CLIMA</th>\n",
       "      <th>PESO</th>\n",
       "    </tr>\n",
       "  </thead>\n",
       "  <tbody>\n",
       "    <tr>\n",
       "      <th>155</th>\n",
       "      <td>Amazonas</td>\n",
       "      <td>Leticia</td>\n",
       "      <td>42956</td>\n",
       "      <td>96</td>\n",
       "      <td>Cálido húmedo</td>\n",
       "      <td>0.000866</td>\n",
       "    </tr>\n",
       "    <tr>\n",
       "      <th>796</th>\n",
       "      <td>Amazonas</td>\n",
       "      <td>Puerto Nariño</td>\n",
       "      <td>8771</td>\n",
       "      <td>120</td>\n",
       "      <td>Cálido húmedo</td>\n",
       "      <td>0.000168</td>\n",
       "    </tr>\n",
       "    <tr>\n",
       "      <th>960</th>\n",
       "      <td>Amazonas</td>\n",
       "      <td>El Encanto</td>\n",
       "      <td>5065</td>\n",
       "      <td>488</td>\n",
       "      <td>Cálido húmedo</td>\n",
       "      <td>0.000101</td>\n",
       "    </tr>\n",
       "    <tr>\n",
       "      <th>970</th>\n",
       "      <td>Amazonas</td>\n",
       "      <td>La Pedrera</td>\n",
       "      <td>5726</td>\n",
       "      <td>119</td>\n",
       "      <td>Cálido húmedo</td>\n",
       "      <td>0.000098</td>\n",
       "    </tr>\n",
       "    <tr>\n",
       "      <th>990</th>\n",
       "      <td>Amazonas</td>\n",
       "      <td>Tarapacá</td>\n",
       "      <td>4398</td>\n",
       "      <td>54</td>\n",
       "      <td>Cálido húmedo</td>\n",
       "      <td>0.000087</td>\n",
       "    </tr>\n",
       "    <tr>\n",
       "      <th>1016</th>\n",
       "      <td>Amazonas</td>\n",
       "      <td>La Chorrera</td>\n",
       "      <td>4161</td>\n",
       "      <td>370</td>\n",
       "      <td>Cálido húmedo</td>\n",
       "      <td>0.000080</td>\n",
       "    </tr>\n",
       "    <tr>\n",
       "      <th>1058</th>\n",
       "      <td>Amazonas</td>\n",
       "      <td>Puerto Santander</td>\n",
       "      <td>3243</td>\n",
       "      <td>226</td>\n",
       "      <td>Cálido húmedo</td>\n",
       "      <td>0.000059</td>\n",
       "    </tr>\n",
       "    <tr>\n",
       "      <th>1106</th>\n",
       "      <td>Amazonas</td>\n",
       "      <td>Puerto Alegría</td>\n",
       "      <td>2386</td>\n",
       "      <td>144</td>\n",
       "      <td>Cálido húmedo</td>\n",
       "      <td>0.000037</td>\n",
       "    </tr>\n",
       "    <tr>\n",
       "      <th>1109</th>\n",
       "      <td>Amazonas</td>\n",
       "      <td>Miriti - Paraná</td>\n",
       "      <td>1509</td>\n",
       "      <td>81</td>\n",
       "      <td>Cálido húmedo</td>\n",
       "      <td>0.000033</td>\n",
       "    </tr>\n",
       "    <tr>\n",
       "      <th>1112</th>\n",
       "      <td>Amazonas</td>\n",
       "      <td>Puerto Arica</td>\n",
       "      <td>1301</td>\n",
       "      <td>96</td>\n",
       "      <td>Cálido húmedo</td>\n",
       "      <td>0.000030</td>\n",
       "    </tr>\n",
       "    <tr>\n",
       "      <th>1116</th>\n",
       "      <td>Amazonas</td>\n",
       "      <td>La Victoria</td>\n",
       "      <td>1166</td>\n",
       "      <td>141</td>\n",
       "      <td>Cálido húmedo</td>\n",
       "      <td>0.000023</td>\n",
       "    </tr>\n",
       "  </tbody>\n",
       "</table>\n",
       "</div>"
      ],
      "text/plain": [
       "     DEPARTAMENTO          MUNICIPIO  POBLACIÓN  ALTITUD          CLIMA  \\\n",
       "155      Amazonas            Leticia      42956       96  Cálido húmedo   \n",
       "796      Amazonas      Puerto Nariño       8771      120  Cálido húmedo   \n",
       "960      Amazonas        El Encanto        5065      488  Cálido húmedo   \n",
       "970      Amazonas        La Pedrera        5726      119  Cálido húmedo   \n",
       "990      Amazonas          Tarapacá        4398       54  Cálido húmedo   \n",
       "1016     Amazonas       La Chorrera        4161      370  Cálido húmedo   \n",
       "1058     Amazonas  Puerto Santander        3243      226  Cálido húmedo   \n",
       "1106     Amazonas    Puerto Alegría        2386      144  Cálido húmedo   \n",
       "1109     Amazonas   Miriti - Paraná        1509       81  Cálido húmedo   \n",
       "1112     Amazonas      Puerto Arica        1301       96  Cálido húmedo   \n",
       "1116     Amazonas       La Victoria        1166      141  Cálido húmedo   \n",
       "\n",
       "          PESO  \n",
       "155   0.000866  \n",
       "796   0.000168  \n",
       "960   0.000101  \n",
       "970   0.000098  \n",
       "990   0.000087  \n",
       "1016  0.000080  \n",
       "1058  0.000059  \n",
       "1106  0.000037  \n",
       "1109  0.000033  \n",
       "1112  0.000030  \n",
       "1116  0.000023  "
      ]
     },
     "execution_count": 25,
     "metadata": {},
     "output_type": "execute_result"
    }
   ],
   "source": [
    "DF[DF[\"DEPARTAMENTO\"]==\"Amazonas\"]"
   ]
  },
  {
   "cell_type": "markdown",
   "metadata": {},
   "source": [
    "En realidad, el filtrado se realiza con una *Series* booleana, cuyo índice debe coincidir con el del *Dataframe*"
   ]
  },
  {
   "cell_type": "code",
   "execution_count": 26,
   "metadata": {},
   "outputs": [
    {
     "name": "stdout",
     "output_type": "stream",
     "text": [
      "La condición es una serie booleana:\n",
      "0       False\n",
      "1       False\n",
      "2       False\n",
      "3       False\n",
      "4       False\n",
      "        ...  \n",
      "1117    False\n",
      "1118    False\n",
      "1119    False\n",
      "1120    False\n",
      "1121    False\n",
      "Name: DEPARTAMENTO, Length: 1122, dtype: bool\n"
     ]
    },
    {
     "data": {
      "text/html": [
       "<div>\n",
       "<style scoped>\n",
       "    .dataframe tbody tr th:only-of-type {\n",
       "        vertical-align: middle;\n",
       "    }\n",
       "\n",
       "    .dataframe tbody tr th {\n",
       "        vertical-align: top;\n",
       "    }\n",
       "\n",
       "    .dataframe thead th {\n",
       "        text-align: right;\n",
       "    }\n",
       "</style>\n",
       "<table border=\"1\" class=\"dataframe\">\n",
       "  <thead>\n",
       "    <tr style=\"text-align: right;\">\n",
       "      <th></th>\n",
       "      <th>DEPARTAMENTO</th>\n",
       "      <th>MUNICIPIO</th>\n",
       "      <th>POBLACIÓN</th>\n",
       "      <th>ALTITUD</th>\n",
       "      <th>CLIMA</th>\n",
       "      <th>PESO</th>\n",
       "    </tr>\n",
       "  </thead>\n",
       "  <tbody>\n",
       "    <tr>\n",
       "      <th>155</th>\n",
       "      <td>Amazonas</td>\n",
       "      <td>Leticia</td>\n",
       "      <td>42956</td>\n",
       "      <td>96</td>\n",
       "      <td>Cálido húmedo</td>\n",
       "      <td>0.000866</td>\n",
       "    </tr>\n",
       "    <tr>\n",
       "      <th>796</th>\n",
       "      <td>Amazonas</td>\n",
       "      <td>Puerto Nariño</td>\n",
       "      <td>8771</td>\n",
       "      <td>120</td>\n",
       "      <td>Cálido húmedo</td>\n",
       "      <td>0.000168</td>\n",
       "    </tr>\n",
       "    <tr>\n",
       "      <th>960</th>\n",
       "      <td>Amazonas</td>\n",
       "      <td>El Encanto</td>\n",
       "      <td>5065</td>\n",
       "      <td>488</td>\n",
       "      <td>Cálido húmedo</td>\n",
       "      <td>0.000101</td>\n",
       "    </tr>\n",
       "    <tr>\n",
       "      <th>970</th>\n",
       "      <td>Amazonas</td>\n",
       "      <td>La Pedrera</td>\n",
       "      <td>5726</td>\n",
       "      <td>119</td>\n",
       "      <td>Cálido húmedo</td>\n",
       "      <td>0.000098</td>\n",
       "    </tr>\n",
       "    <tr>\n",
       "      <th>990</th>\n",
       "      <td>Amazonas</td>\n",
       "      <td>Tarapacá</td>\n",
       "      <td>4398</td>\n",
       "      <td>54</td>\n",
       "      <td>Cálido húmedo</td>\n",
       "      <td>0.000087</td>\n",
       "    </tr>\n",
       "    <tr>\n",
       "      <th>1016</th>\n",
       "      <td>Amazonas</td>\n",
       "      <td>La Chorrera</td>\n",
       "      <td>4161</td>\n",
       "      <td>370</td>\n",
       "      <td>Cálido húmedo</td>\n",
       "      <td>0.000080</td>\n",
       "    </tr>\n",
       "    <tr>\n",
       "      <th>1058</th>\n",
       "      <td>Amazonas</td>\n",
       "      <td>Puerto Santander</td>\n",
       "      <td>3243</td>\n",
       "      <td>226</td>\n",
       "      <td>Cálido húmedo</td>\n",
       "      <td>0.000059</td>\n",
       "    </tr>\n",
       "    <tr>\n",
       "      <th>1106</th>\n",
       "      <td>Amazonas</td>\n",
       "      <td>Puerto Alegría</td>\n",
       "      <td>2386</td>\n",
       "      <td>144</td>\n",
       "      <td>Cálido húmedo</td>\n",
       "      <td>0.000037</td>\n",
       "    </tr>\n",
       "    <tr>\n",
       "      <th>1109</th>\n",
       "      <td>Amazonas</td>\n",
       "      <td>Miriti - Paraná</td>\n",
       "      <td>1509</td>\n",
       "      <td>81</td>\n",
       "      <td>Cálido húmedo</td>\n",
       "      <td>0.000033</td>\n",
       "    </tr>\n",
       "    <tr>\n",
       "      <th>1112</th>\n",
       "      <td>Amazonas</td>\n",
       "      <td>Puerto Arica</td>\n",
       "      <td>1301</td>\n",
       "      <td>96</td>\n",
       "      <td>Cálido húmedo</td>\n",
       "      <td>0.000030</td>\n",
       "    </tr>\n",
       "    <tr>\n",
       "      <th>1116</th>\n",
       "      <td>Amazonas</td>\n",
       "      <td>La Victoria</td>\n",
       "      <td>1166</td>\n",
       "      <td>141</td>\n",
       "      <td>Cálido húmedo</td>\n",
       "      <td>0.000023</td>\n",
       "    </tr>\n",
       "  </tbody>\n",
       "</table>\n",
       "</div>"
      ],
      "text/plain": [
       "     DEPARTAMENTO          MUNICIPIO  POBLACIÓN  ALTITUD          CLIMA  \\\n",
       "155      Amazonas            Leticia      42956       96  Cálido húmedo   \n",
       "796      Amazonas      Puerto Nariño       8771      120  Cálido húmedo   \n",
       "960      Amazonas        El Encanto        5065      488  Cálido húmedo   \n",
       "970      Amazonas        La Pedrera        5726      119  Cálido húmedo   \n",
       "990      Amazonas          Tarapacá        4398       54  Cálido húmedo   \n",
       "1016     Amazonas       La Chorrera        4161      370  Cálido húmedo   \n",
       "1058     Amazonas  Puerto Santander        3243      226  Cálido húmedo   \n",
       "1106     Amazonas    Puerto Alegría        2386      144  Cálido húmedo   \n",
       "1109     Amazonas   Miriti - Paraná        1509       81  Cálido húmedo   \n",
       "1112     Amazonas      Puerto Arica        1301       96  Cálido húmedo   \n",
       "1116     Amazonas       La Victoria        1166      141  Cálido húmedo   \n",
       "\n",
       "          PESO  \n",
       "155   0.000866  \n",
       "796   0.000168  \n",
       "960   0.000101  \n",
       "970   0.000098  \n",
       "990   0.000087  \n",
       "1016  0.000080  \n",
       "1058  0.000059  \n",
       "1106  0.000037  \n",
       "1109  0.000033  \n",
       "1112  0.000030  \n",
       "1116  0.000023  "
      ]
     },
     "execution_count": 26,
     "metadata": {},
     "output_type": "execute_result"
    }
   ],
   "source": [
    "condición= DF[\"DEPARTAMENTO\"]==\"Amazonas\"\n",
    "print(\"La condición es una serie booleana:\")\n",
    "print(condición)\n",
    "DF[condición]"
   ]
  },
  {
   "cell_type": "markdown",
   "metadata": {},
   "source": [
    "# 4. Ejercicio sugerido\n",
    "Explore el archivo \"dataEj.csv\", construya un *Dataframe*  y obtenga la siguiente información:\n",
    "    * El número de filas y columnas del *DataFrame*.\n",
    "    * El nombre de las columnas.\n",
    "    * Los histogramas de las columnas numéricas.\n",
    "    * Algunos valores de tendencia centraly dispersión de las columnas numéricas."
   ]
  },
  {
   "cell_type": "code",
   "execution_count": 1,
   "metadata": {},
   "outputs": [
    {
     "name": "stdout",
     "output_type": "stream",
     "text": [
      "\n",
      "DataFrame:\n",
      "            FECHA      HORA         I_A         I_B         I_C      KVA_Tot  \\\n",
      "0      2016-10-05  11:00:00  109.287041  110.147362  110.887047  2103.854248   \n",
      "1      2016-10-05  12:00:00  111.300003  111.064903  113.138161  2197.022217   \n",
      "2      2016-10-05  13:00:00  105.136642  105.236641  107.071754  2051.411865   \n",
      "3      2016-10-05  14:00:00   99.702164  100.220459  100.730118  1954.322754   \n",
      "4      2016-10-05  15:00:00  106.306900  103.913803  105.711502  2033.672485   \n",
      "...           ...       ...         ...         ...         ...          ...   \n",
      "22412  2019-12-03  11:00:00   95.090363   94.783279   94.642769  1786.164185   \n",
      "22413  2019-12-03  12:00:00   96.153091   95.840714   96.175240  1862.299683   \n",
      "22414  2019-12-03  13:00:00   88.259850   88.522842   88.081131  1734.000000   \n",
      "22415  2019-12-03  14:00:00   89.411697   87.711693   87.664337  1691.000000   \n",
      "22416  2019-12-03  16:00:00   86.643059   88.598595   89.340248  1713.971924   \n",
      "\n",
      "         kVAr_Tot       kW_Tot         V_A_B         V_B_C         V_C_A  \n",
      "0      277.951416  2085.457520  11013.016602  11043.222656  11054.016602  \n",
      "1      328.640533  2172.846680  11079.030273  11115.412109  11123.236328  \n",
      "2      302.450409  2028.595215  11192.564453  11220.931641  11235.480469  \n",
      "3      312.440918  1929.322754  11219.440430  11249.860352  11258.581055  \n",
      "4      305.138031  2011.672485  11178.465820  11216.954102  11220.976562  \n",
      "...           ...          ...           ...           ...           ...  \n",
      "22412  234.475906  1768.396606  10955.210938  11096.627930  11025.940430  \n",
      "22413  251.389053  1846.910645  10988.658203  11096.867188  11045.813477  \n",
      "22414  229.000000  1719.000000  11045.854492  11113.968750  11086.181641  \n",
      "22415  221.766037  1676.058472  11103.051758  11151.844727  11126.550781  \n",
      "22416  238.291733  1696.971924  11217.445312  11227.595703  11268.139648  \n",
      "\n",
      "[22417 rows x 11 columns]\n",
      "\n",
      "Número de filas y columnas:\n",
      "(22417, 11)\n",
      "\n",
      "Nombre de las columnas:\n",
      "Index(['FECHA', 'HORA', 'I_A', 'I_B', 'I_C', 'KVA_Tot', 'kVAr_Tot', 'kW_Tot',\n",
      "       'V_A_B', 'V_B_C', 'V_C_A'],\n",
      "      dtype='object')\n",
      "\n",
      "Histogramas\n",
      "[[<Axes: title={'center': 'I_A'}> <Axes: title={'center': 'I_B'}>\n",
      "  <Axes: title={'center': 'I_C'}>]\n",
      " [<Axes: title={'center': 'KVA_Tot'}>\n",
      "  <Axes: title={'center': 'kVAr_Tot'}> <Axes: title={'center': 'kW_Tot'}>]\n",
      " [<Axes: title={'center': 'V_A_B'}> <Axes: title={'center': 'V_B_C'}>\n",
      "  <Axes: title={'center': 'V_C_A'}>]]\n",
      "\n",
      "Análisis:\n",
      "                I_A           I_B           I_C       KVA_Tot      kVAr_Tot  \\\n",
      "count  22417.000000  22417.000000  22417.000000  22417.000000  22417.000000   \n",
      "mean      61.811780     62.625502     61.783389   1206.973817    129.987424   \n",
      "std       23.376938     23.525938     23.274905    446.777281     77.247272   \n",
      "min       24.664812     26.232407     25.916203    494.134186    -19.621632   \n",
      "25%       44.221676     44.772472     44.534214    871.520691     68.543076   \n",
      "50%       50.277397     50.900002     50.434879    987.945068    112.710670   \n",
      "75%       81.207764     82.210083     80.715492   1580.000000    184.000000   \n",
      "max      128.927322    130.877411    129.722717   2462.354492    360.692780   \n",
      "\n",
      "             kW_Tot         V_A_B         V_B_C         V_C_A  \n",
      "count  22417.000000  22417.000000  22417.000000  22417.000000  \n",
      "mean    1199.109991  11241.515681  11281.401484  11305.782313  \n",
      "std      442.362859    124.861349    128.448736    128.641385  \n",
      "min      493.324463  10674.580078  10676.218750  10698.085938  \n",
      "25%      868.589050  11161.540039  11201.274414  11224.918945  \n",
      "50%      982.155640  11246.764648  11289.102539  11312.956055  \n",
      "75%     1568.693970  11328.348633  11370.659180  11394.140625  \n",
      "max     2441.354492  11717.961914  11771.569336  11765.741211  \n"
     ]
    },
    {
     "data": {
      "image/png": "[encoded data removed]",
      "text/plain": [
       "<Figure size 640x480 with 9 Axes>"
      ]
     },
     "metadata": {},
     "output_type": "display_data"
    }
   ],
   "source": [
    "import pandas as pd\n",
    "dataEj = pd.read_csv(\"dataEj.csv\")\n",
    "\n",
    "print(\"\\nDataFrame:\")\n",
    "print(dataEj)\n",
    "\n",
    "print(\"\\nNúmero de filas y columnas:\")\n",
    "print(dataEj.shape)\n",
    "\n",
    "print(\"\\nNombre de las columnas:\")\n",
    "print(dataEj.columns)\n",
    "\n",
    "print(\"\\nHistogramas\")\n",
    "print(dataEj.hist())\n",
    "\n",
    "print(\"\\nAnálisis:\")\n",
    "print(dataEj.describe())"
   ]
  }
 ],
 "metadata": {
  "kernelspec": {
   "display_name": "tesina_env",
   "language": "python",
   "name": "python3"
  },
  "language_info": {
   "codemirror_mode": {
    "name": "ipython",
    "version": 3
   },
   "file_extension": ".py",
   "mimetype": "text/x-python",
   "name": "python",
   "nbconvert_exporter": "python",
   "pygments_lexer": "ipython3",
   "version": "3.9.21"
  }
 },
 "nbformat": 4,
 "nbformat_minor": 4
}
