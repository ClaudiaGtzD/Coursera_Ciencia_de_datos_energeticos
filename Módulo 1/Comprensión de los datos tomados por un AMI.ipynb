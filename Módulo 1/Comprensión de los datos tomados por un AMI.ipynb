{
 "cells": [
  {
   "cell_type": "markdown",
   "metadata": {},
   "source": [
    "# 1. Importación de librerías"
   ]
  },
  {
   "cell_type": "code",
   "execution_count": 1,
   "metadata": {},
   "outputs": [],
   "source": [
    "import pandas as pd                # manipulación de datos \n",
    "import numpy as np                 # librería numérica\n",
    "import matplotlib.pyplot as plt    # librería de graficación\n",
    "import datetime as datetime        # librería para manejo de fechas y hora"
   ]
  },
  {
   "cell_type": "markdown",
   "metadata": {},
   "source": [
    "# 2. El formato del archivo\n",
    "\n",
    "Los archivos de datos *csv* pueden tener una gran variedad de formatos. La función **read_csv()** de la clase **Dataframe** es muy versátil (https://pandas.pydata.org/docs/reference/api/pandas.read_csv.html).\n",
    "\n",
    "En este laboratorio utlizaremos como ejemplo un archivo cuyo formato tiene varias opciones que no son las que espera por defecto **read_csv()**. Este ejemplo nos permitirá explorar:\n",
    "* La codificación del rchivo\n",
    "* El separador de campos\n",
    "* El inidicador de punto decimal\n",
    "* La interpretación de las fechas\n",
    "\n"
   ]
  },
  {
   "cell_type": "markdown",
   "metadata": {},
   "source": [
    "## 2.1. La codificación\n",
    "\n",
    "**read_csv()** espera por defecto que la codificación del archivo set *UTF-8*. Si este no es el caso, al intentar leer el archivo puede aparecer un error, o leer de forma errónea los caracteres especiales. Lo mismo puede suceder al usar la función **readline()**\n",
    "\n",
    "El argumento mediante el que se especifica la codificación es **encoding**.\n"
   ]
  },
  {
   "cell_type": "code",
   "execution_count": 2,
   "metadata": {},
   "outputs": [
    {
     "name": "stdout",
     "output_type": "stream",
     "text": [
      "(AÑO-MES-DÍA)\tHORA\tI_A\tI_B\tI_C\tKVA_Tot\tkVAr_Tot\tkW_Tot\tV_A_B\tV_B_C\tV_C_A\n",
      "\n",
      "2016-10-05\t11:00:00\t109,287040710449\t110,147361755371\t110,887046813965\t2103,85424804688\t277,951416015625\t2085,45751953125\t11013,0166015625\t11043,22265625\t11054,0166015625\n",
      "\n",
      "2016-10-05\t12:00:00\t111,300003051758\t111,064903259277\t113,138160705566\t2197,02221679688\t328,640533447266\t2172,8466796875\t11079,0302734375\t11115,412109375\t11123,236328125\n",
      "\n"
     ]
    }
   ],
   "source": [
    "filename=\"data-02.csv\"\n",
    "#f = open(filename, \"r\")\n",
    "f = open(filename, \"r\", encoding=\"iso8859-15\")\n",
    "l1=f.readline()\n",
    "l2=f.readline()\n",
    "l3=f.readline()\n",
    "print(l1)\n",
    "print(l2)\n",
    "print(l3)"
   ]
  },
  {
   "cell_type": "code",
   "execution_count": 3,
   "metadata": {},
   "outputs": [
    {
     "data": {
      "text/html": [
       "<div>\n",
       "<style scoped>\n",
       "    .dataframe tbody tr th:only-of-type {\n",
       "        vertical-align: middle;\n",
       "    }\n",
       "\n",
       "    .dataframe tbody tr th {\n",
       "        vertical-align: top;\n",
       "    }\n",
       "\n",
       "    .dataframe thead th {\n",
       "        text-align: right;\n",
       "    }\n",
       "</style>\n",
       "<table border=\"1\" class=\"dataframe\">\n",
       "  <thead>\n",
       "    <tr style=\"text-align: right;\">\n",
       "      <th></th>\n",
       "      <th></th>\n",
       "      <th></th>\n",
       "      <th></th>\n",
       "      <th></th>\n",
       "      <th></th>\n",
       "      <th></th>\n",
       "      <th></th>\n",
       "      <th></th>\n",
       "      <th>(AÑO-MES-DÍA)\\tHORA\\tI_A\\tI_B\\tI_C\\tKVA_Tot\\tkVAr_Tot\\tkW_Tot\\tV_A_B\\tV_B_C\\tV_C_A</th>\n",
       "    </tr>\n",
       "  </thead>\n",
       "  <tbody>\n",
       "    <tr>\n",
       "      <th>2016-10-05\\t11:00:00\\t109</th>\n",
       "      <th>287040710449\\t110</th>\n",
       "      <th>147361755371\\t110</th>\n",
       "      <th>887046813965\\t2103</th>\n",
       "      <th>85424804688\\t277</th>\n",
       "      <th>951416015625\\t2085</th>\n",
       "      <th>45751953125\\t11013</th>\n",
       "      <th>0166015625\\t11043</th>\n",
       "      <th>22265625\\t11054</th>\n",
       "      <td>166015625.0</td>\n",
       "    </tr>\n",
       "    <tr>\n",
       "      <th>2016-10-05\\t12:00:00\\t111</th>\n",
       "      <th>300003051758\\t111</th>\n",
       "      <th>064903259277\\t113</th>\n",
       "      <th>138160705566\\t2197</th>\n",
       "      <th>02221679688\\t328</th>\n",
       "      <th>640533447266\\t2172</th>\n",
       "      <th>8466796875\\t11079</th>\n",
       "      <th>0302734375\\t11115</th>\n",
       "      <th>412109375\\t11123</th>\n",
       "      <td>236328125.0</td>\n",
       "    </tr>\n",
       "    <tr>\n",
       "      <th>2016-10-05\\t13:00:00\\t105</th>\n",
       "      <th>136642456055\\t105</th>\n",
       "      <th>236640930176\\t107</th>\n",
       "      <th>071754455566\\t2051</th>\n",
       "      <th>41186523438\\t302</th>\n",
       "      <th>450408935547\\t2028</th>\n",
       "      <th>59521484375\\t11192</th>\n",
       "      <th>564453125\\t11220</th>\n",
       "      <th>931640625\\t11235</th>\n",
       "      <td>48046875.0</td>\n",
       "    </tr>\n",
       "  </tbody>\n",
       "</table>\n",
       "</div>"
      ],
      "text/plain": [
       "                                                                                                                                                                            (AÑO-MES-DÍA)\\tHORA\\tI_A\\tI_B\\tI_C\\tKVA_Tot\\tkVAr_Tot\\tkW_Tot\\tV_A_B\\tV_B_C\\tV_C_A\n",
       "2016-10-05\\t11:00:00\\t109 287040710449\\t110 147361755371\\t110 887046813965\\t2103 85424804688\\t277 951416015625\\t2085 45751953125\\t11013 0166015625\\t11043 22265625\\t11054                                         166015625.0                                 \n",
       "2016-10-05\\t12:00:00\\t111 300003051758\\t111 064903259277\\t113 138160705566\\t2197 02221679688\\t328 640533447266\\t2172 8466796875\\t11079  0302734375\\t11115 412109375\\t11123                                        236328125.0                                 \n",
       "2016-10-05\\t13:00:00\\t105 136642456055\\t105 236640930176\\t107 071754455566\\t2051 41186523438\\t302 450408935547\\t2028 59521484375\\t11192 564453125\\t11220  931640625\\t11235                                         48046875.0                                 "
      ]
     },
     "execution_count": 3,
     "metadata": {},
     "output_type": "execute_result"
    }
   ],
   "source": [
    "#DF=pd.read_csv(filename)\n",
    "DF=pd.read_csv(filename,encoding='iso8859')\n",
    "DF.head(3)"
   ]
  },
  {
   "cell_type": "markdown",
   "metadata": {},
   "source": [
    "## 2.2 El separador de campos\n",
    "\n",
    "**read_csv()** espera por defecto que el separador de campos sea la coma (','). Si este no es el caso, al intentar leer el archivo detectará de forma errónea las columnas.\n",
    "\n",
    "El argumento mediante el que se especifica el separador es **sep**.\n"
   ]
  },
  {
   "cell_type": "code",
   "execution_count": 4,
   "metadata": {},
   "outputs": [
    {
     "data": {
      "text/html": [
       "<div>\n",
       "<style scoped>\n",
       "    .dataframe tbody tr th:only-of-type {\n",
       "        vertical-align: middle;\n",
       "    }\n",
       "\n",
       "    .dataframe tbody tr th {\n",
       "        vertical-align: top;\n",
       "    }\n",
       "\n",
       "    .dataframe thead th {\n",
       "        text-align: right;\n",
       "    }\n",
       "</style>\n",
       "<table border=\"1\" class=\"dataframe\">\n",
       "  <thead>\n",
       "    <tr style=\"text-align: right;\">\n",
       "      <th></th>\n",
       "      <th>(AÑO-MES-DÍA)</th>\n",
       "      <th>HORA</th>\n",
       "      <th>I_A</th>\n",
       "      <th>I_B</th>\n",
       "      <th>I_C</th>\n",
       "      <th>KVA_Tot</th>\n",
       "      <th>kVAr_Tot</th>\n",
       "      <th>kW_Tot</th>\n",
       "      <th>V_A_B</th>\n",
       "      <th>V_B_C</th>\n",
       "      <th>V_C_A</th>\n",
       "    </tr>\n",
       "  </thead>\n",
       "  <tbody>\n",
       "    <tr>\n",
       "      <th>0</th>\n",
       "      <td>2016-10-05</td>\n",
       "      <td>11:00:00</td>\n",
       "      <td>109,287040710449</td>\n",
       "      <td>110,147361755371</td>\n",
       "      <td>110,887046813965</td>\n",
       "      <td>2103,85424804688</td>\n",
       "      <td>277,951416015625</td>\n",
       "      <td>2085,45751953125</td>\n",
       "      <td>11013,0166015625</td>\n",
       "      <td>11043,22265625</td>\n",
       "      <td>11054,0166015625</td>\n",
       "    </tr>\n",
       "    <tr>\n",
       "      <th>1</th>\n",
       "      <td>2016-10-05</td>\n",
       "      <td>12:00:00</td>\n",
       "      <td>111,300003051758</td>\n",
       "      <td>111,064903259277</td>\n",
       "      <td>113,138160705566</td>\n",
       "      <td>2197,02221679688</td>\n",
       "      <td>328,640533447266</td>\n",
       "      <td>2172,8466796875</td>\n",
       "      <td>11079,0302734375</td>\n",
       "      <td>11115,412109375</td>\n",
       "      <td>11123,236328125</td>\n",
       "    </tr>\n",
       "    <tr>\n",
       "      <th>2</th>\n",
       "      <td>2016-10-05</td>\n",
       "      <td>13:00:00</td>\n",
       "      <td>105,136642456055</td>\n",
       "      <td>105,236640930176</td>\n",
       "      <td>107,071754455566</td>\n",
       "      <td>2051,41186523438</td>\n",
       "      <td>302,450408935547</td>\n",
       "      <td>2028,59521484375</td>\n",
       "      <td>11192,564453125</td>\n",
       "      <td>11220,931640625</td>\n",
       "      <td>11235,48046875</td>\n",
       "    </tr>\n",
       "  </tbody>\n",
       "</table>\n",
       "</div>"
      ],
      "text/plain": [
       "  (AÑO-MES-DÍA)      HORA               I_A               I_B  \\\n",
       "0    2016-10-05  11:00:00  109,287040710449  110,147361755371   \n",
       "1    2016-10-05  12:00:00  111,300003051758  111,064903259277   \n",
       "2    2016-10-05  13:00:00  105,136642456055  105,236640930176   \n",
       "\n",
       "                I_C           KVA_Tot          kVAr_Tot            kW_Tot  \\\n",
       "0  110,887046813965  2103,85424804688  277,951416015625  2085,45751953125   \n",
       "1  113,138160705566  2197,02221679688  328,640533447266   2172,8466796875   \n",
       "2  107,071754455566  2051,41186523438  302,450408935547  2028,59521484375   \n",
       "\n",
       "              V_A_B            V_B_C             V_C_A  \n",
       "0  11013,0166015625   11043,22265625  11054,0166015625  \n",
       "1  11079,0302734375  11115,412109375   11123,236328125  \n",
       "2   11192,564453125  11220,931640625    11235,48046875  "
      ]
     },
     "execution_count": 4,
     "metadata": {},
     "output_type": "execute_result"
    }
   ],
   "source": [
    "DF=pd.read_csv(filename, sep='\\t',encoding='iso8859_15')\n",
    "DF.head(3)"
   ]
  },
  {
   "cell_type": "markdown",
   "metadata": {},
   "source": [
    "## 2.3. El indicador de punto decimal\n",
    "read_csv() espera por defecto que el separador de campos sea el punto (','). Si este no es el caso, al intentar leer el archivo detectará de forma errónea los datos numéricos.\n",
    "\n",
    "El argumento mediante el que se especifica el separador es **decimal**.\n"
   ]
  },
  {
   "cell_type": "code",
   "execution_count": 5,
   "metadata": {},
   "outputs": [
    {
     "name": "stdout",
     "output_type": "stream",
     "text": [
      "<class 'pandas.core.frame.DataFrame'>\n",
      "RangeIndex: 22417 entries, 0 to 22416\n",
      "Data columns (total 11 columns):\n",
      " #   Column         Non-Null Count  Dtype \n",
      "---  ------         --------------  ----- \n",
      " 0   (AÑO-MES-DÍA)  22417 non-null  object\n",
      " 1   HORA           22417 non-null  object\n",
      " 2   I_A            22416 non-null  object\n",
      " 3   I_B            22417 non-null  object\n",
      " 4   I_C            22417 non-null  object\n",
      " 5   KVA_Tot        22417 non-null  object\n",
      " 6   kVAr_Tot       22417 non-null  object\n",
      " 7   kW_Tot         22417 non-null  object\n",
      " 8   V_A_B          22417 non-null  object\n",
      " 9   V_B_C          22417 non-null  object\n",
      " 10  V_C_A          22417 non-null  object\n",
      "dtypes: object(11)\n",
      "memory usage: 1.9+ MB\n"
     ]
    }
   ],
   "source": [
    "DF=pd.read_csv(filename, sep='\\t',encoding='iso8859_15')\n",
    "#DF=pd.read_csv(filename, sep='\\t',decimal=',',encoding='iso8859_15')\n",
    "DF.info()"
   ]
  },
  {
   "cell_type": "markdown",
   "metadata": {},
   "source": [
    "## 2.4. La interpretación de las fechas\n",
    "\n",
    "**read_csv()** puede leer la información de varias columnas para intentar deducir una fecha y una hora a aprtir de ellas. \n",
    "\n",
    "Para ello, el argumento **parse_dates** debe contener la lista de las columnas a procesar:"
   ]
  },
  {
   "cell_type": "code",
   "execution_count": 6,
   "metadata": {},
   "outputs": [
    {
     "data": {
      "text/html": [
       "<div>\n",
       "<style scoped>\n",
       "    .dataframe tbody tr th:only-of-type {\n",
       "        vertical-align: middle;\n",
       "    }\n",
       "\n",
       "    .dataframe tbody tr th {\n",
       "        vertical-align: top;\n",
       "    }\n",
       "\n",
       "    .dataframe thead th {\n",
       "        text-align: right;\n",
       "    }\n",
       "</style>\n",
       "<table border=\"1\" class=\"dataframe\">\n",
       "  <thead>\n",
       "    <tr style=\"text-align: right;\">\n",
       "      <th></th>\n",
       "      <th>(AÑO-MES-DÍA)</th>\n",
       "      <th>HORA</th>\n",
       "      <th>I_A</th>\n",
       "      <th>I_B</th>\n",
       "      <th>I_C</th>\n",
       "      <th>KVA_Tot</th>\n",
       "      <th>kVAr_Tot</th>\n",
       "      <th>kW_Tot</th>\n",
       "      <th>V_A_B</th>\n",
       "      <th>V_B_C</th>\n",
       "      <th>V_C_A</th>\n",
       "    </tr>\n",
       "  </thead>\n",
       "  <tbody>\n",
       "    <tr>\n",
       "      <th>0</th>\n",
       "      <td>2016-10-05</td>\n",
       "      <td>11:00:00</td>\n",
       "      <td>109.287041</td>\n",
       "      <td>110.147362</td>\n",
       "      <td>110.887047</td>\n",
       "      <td>2103.854248</td>\n",
       "      <td>277.951416</td>\n",
       "      <td>2085.457520</td>\n",
       "      <td>11013.016602</td>\n",
       "      <td>11043.222656</td>\n",
       "      <td>11054.016602</td>\n",
       "    </tr>\n",
       "    <tr>\n",
       "      <th>1</th>\n",
       "      <td>2016-10-05</td>\n",
       "      <td>12:00:00</td>\n",
       "      <td>111.300003</td>\n",
       "      <td>111.064903</td>\n",
       "      <td>113.138161</td>\n",
       "      <td>2197.022217</td>\n",
       "      <td>328.640533</td>\n",
       "      <td>2172.846680</td>\n",
       "      <td>11079.030273</td>\n",
       "      <td>11115.412109</td>\n",
       "      <td>11123.236328</td>\n",
       "    </tr>\n",
       "    <tr>\n",
       "      <th>2</th>\n",
       "      <td>2016-10-05</td>\n",
       "      <td>13:00:00</td>\n",
       "      <td>105.136642</td>\n",
       "      <td>105.236641</td>\n",
       "      <td>107.071754</td>\n",
       "      <td>2051.411865</td>\n",
       "      <td>302.450409</td>\n",
       "      <td>2028.595215</td>\n",
       "      <td>11192.564453</td>\n",
       "      <td>11220.931641</td>\n",
       "      <td>11235.480469</td>\n",
       "    </tr>\n",
       "  </tbody>\n",
       "</table>\n",
       "</div>"
      ],
      "text/plain": [
       "  (AÑO-MES-DÍA)      HORA         I_A         I_B         I_C      KVA_Tot  \\\n",
       "0    2016-10-05  11:00:00  109.287041  110.147362  110.887047  2103.854248   \n",
       "1    2016-10-05  12:00:00  111.300003  111.064903  113.138161  2197.022217   \n",
       "2    2016-10-05  13:00:00  105.136642  105.236641  107.071754  2051.411865   \n",
       "\n",
       "     kVAr_Tot       kW_Tot         V_A_B         V_B_C         V_C_A  \n",
       "0  277.951416  2085.457520  11013.016602  11043.222656  11054.016602  \n",
       "1  328.640533  2172.846680  11079.030273  11115.412109  11123.236328  \n",
       "2  302.450409  2028.595215  11192.564453  11220.931641  11235.480469  "
      ]
     },
     "execution_count": 6,
     "metadata": {},
     "output_type": "execute_result"
    }
   ],
   "source": [
    "DF=pd.read_csv(filename, sep='\\t',decimal=',',encoding='iso8859_15')\n",
    "DF.head(3)\n",
    "#DF.info()"
   ]
  },
  {
   "cell_type": "code",
   "execution_count": 7,
   "metadata": {},
   "outputs": [
    {
     "name": "stdout",
     "output_type": "stream",
     "text": [
      "<class 'pandas.core.frame.DataFrame'>\n",
      "RangeIndex: 22417 entries, 0 to 22416\n",
      "Data columns (total 10 columns):\n",
      " #   Column              Non-Null Count  Dtype         \n",
      "---  ------              --------------  -----         \n",
      " 0   (AÑO-MES-DÍA)_HORA  22417 non-null  datetime64[ns]\n",
      " 1   I_A                 22416 non-null  float64       \n",
      " 2   I_B                 22417 non-null  float64       \n",
      " 3   I_C                 22417 non-null  float64       \n",
      " 4   KVA_Tot             22417 non-null  float64       \n",
      " 5   kVAr_Tot            22417 non-null  float64       \n",
      " 6   kW_Tot              22417 non-null  float64       \n",
      " 7   V_A_B               22417 non-null  float64       \n",
      " 8   V_B_C               22417 non-null  float64       \n",
      " 9   V_C_A               22417 non-null  float64       \n",
      "dtypes: datetime64[ns](1), float64(9)\n",
      "memory usage: 1.7 MB\n"
     ]
    }
   ],
   "source": [
    "#DF=pd.read_csv(filename, sep='\\t',decimal=',',encoding='iso8859_15')\n",
    "DF=pd.read_csv(filename, sep='\\t',decimal=',',parse_dates=[['(AÑO-MES-DÍA)','HORA']],encoding='iso8859_15')\n",
    "DF.head(3)\n",
    "DF.info()"
   ]
  },
  {
   "cell_type": "markdown",
   "metadata": {},
   "source": [
    "## 2.5. Cambio de nombre de las columnas\n",
    "\n",
    "Es conveniente utilizar nombres para las columnas que sean inteligibles y cortos. Para cambiar el nombre de las columnas se puede emplear la instrucción **rename()**"
   ]
  },
  {
   "cell_type": "code",
   "execution_count": 12,
   "metadata": {},
   "outputs": [
    {
     "data": {
      "text/html": [
       "<div>\n",
       "<style scoped>\n",
       "    .dataframe tbody tr th:only-of-type {\n",
       "        vertical-align: middle;\n",
       "    }\n",
       "\n",
       "    .dataframe tbody tr th {\n",
       "        vertical-align: top;\n",
       "    }\n",
       "\n",
       "    .dataframe thead th {\n",
       "        text-align: right;\n",
       "    }\n",
       "</style>\n",
       "<table border=\"1\" class=\"dataframe\">\n",
       "  <thead>\n",
       "    <tr style=\"text-align: right;\">\n",
       "      <th></th>\n",
       "      <th>T</th>\n",
       "      <th>Ia</th>\n",
       "      <th>Ib</th>\n",
       "      <th>Ic</th>\n",
       "      <th>S</th>\n",
       "      <th>Q</th>\n",
       "      <th>P</th>\n",
       "      <th>Vab</th>\n",
       "      <th>Vbc</th>\n",
       "      <th>Vca</th>\n",
       "    </tr>\n",
       "  </thead>\n",
       "  <tbody>\n",
       "    <tr>\n",
       "      <th>0</th>\n",
       "      <td>2016-10-05 11:00:00</td>\n",
       "      <td>109.287041</td>\n",
       "      <td>110.147362</td>\n",
       "      <td>110.887047</td>\n",
       "      <td>2103.854248</td>\n",
       "      <td>277.951416</td>\n",
       "      <td>2085.457520</td>\n",
       "      <td>11013.016602</td>\n",
       "      <td>11043.222656</td>\n",
       "      <td>11054.016602</td>\n",
       "    </tr>\n",
       "    <tr>\n",
       "      <th>1</th>\n",
       "      <td>2016-10-05 12:00:00</td>\n",
       "      <td>111.300003</td>\n",
       "      <td>111.064903</td>\n",
       "      <td>113.138161</td>\n",
       "      <td>2197.022217</td>\n",
       "      <td>328.640533</td>\n",
       "      <td>2172.846680</td>\n",
       "      <td>11079.030273</td>\n",
       "      <td>11115.412109</td>\n",
       "      <td>11123.236328</td>\n",
       "    </tr>\n",
       "    <tr>\n",
       "      <th>2</th>\n",
       "      <td>2016-10-05 13:00:00</td>\n",
       "      <td>105.136642</td>\n",
       "      <td>105.236641</td>\n",
       "      <td>107.071754</td>\n",
       "      <td>2051.411865</td>\n",
       "      <td>302.450409</td>\n",
       "      <td>2028.595215</td>\n",
       "      <td>11192.564453</td>\n",
       "      <td>11220.931641</td>\n",
       "      <td>11235.480469</td>\n",
       "    </tr>\n",
       "  </tbody>\n",
       "</table>\n",
       "</div>"
      ],
      "text/plain": [
       "                    T          Ia          Ib          Ic            S  \\\n",
       "0 2016-10-05 11:00:00  109.287041  110.147362  110.887047  2103.854248   \n",
       "1 2016-10-05 12:00:00  111.300003  111.064903  113.138161  2197.022217   \n",
       "2 2016-10-05 13:00:00  105.136642  105.236641  107.071754  2051.411865   \n",
       "\n",
       "            Q            P           Vab           Vbc           Vca  \n",
       "0  277.951416  2085.457520  11013.016602  11043.222656  11054.016602  \n",
       "1  328.640533  2172.846680  11079.030273  11115.412109  11123.236328  \n",
       "2  302.450409  2028.595215  11192.564453  11220.931641  11235.480469  "
      ]
     },
     "execution_count": 12,
     "metadata": {},
     "output_type": "execute_result"
    }
   ],
   "source": [
    "filename=\"data-02.csv\"\n",
    "DF=pd.read_csv(filename, sep='\\t',decimal=',',parse_dates=[['(AÑO-MES-DÍA)','HORA']],encoding='iso8859_15')\n",
    "columnas={'(AÑO-MES-DÍA)_HORA': 'T',\n",
    "          'KVA_Tot'           : 'S',      #Potencia aparente\n",
    "          'kVAr_Tot'          : 'Q',      #Potencia reactiva\n",
    "          'kW_Tot'            : 'P',      #Potencia activa\n",
    "          'I_A'               : 'Ia',\n",
    "          'I_B'               : 'Ib',\n",
    "          'I_C'               : 'Ic',\n",
    "          'V_A_B'             : 'Vab',\n",
    "          'V_B_C'             : 'Vbc',\n",
    "          'V_C_A'             : 'Vca'}\n",
    "DF=DF.rename(columns=columnas)\n",
    "DF.head(3)"
   ]
  },
  {
   "cell_type": "markdown",
   "metadata": {},
   "source": [
    "# 3. Calidad de los datos\n",
    "\n",
    "## 3.1. Series de tiempo incompletas\n",
    "\n",
    "Si los datos está organizados en el tiempo, es necesario verificar si faltan registros. Una forma rápida de hacerlo es graficar la columna del tiempo: si no faltan registros, el resultado debe ser una linea recta. Los registros faltantes se evidencias como saltos."
   ]
  },
  {
   "cell_type": "code",
   "execution_count": 13,
   "metadata": {},
   "outputs": [
    {
     "data": {
      "text/plain": [
       "[<matplotlib.lines.Line2D at 0x73b638c50410>]"
      ]
     },
     "execution_count": 13,
     "metadata": {},
     "output_type": "execute_result"
    },
    {
     "data": {
      "image/png": "[encoded data removed]",
      "text/plain": [
       "<Figure size 432x288 with 1 Axes>"
      ]
     },
     "metadata": {
      "needs_background": "light"
     },
     "output_type": "display_data"
    }
   ],
   "source": [
    "plt.plot(DF['T'])"
   ]
  },
  {
   "cell_type": "markdown",
   "metadata": {},
   "source": [
    "## 3.2. Detección de campos faltantes\n",
    "\n",
    "Aun cuando no haya registros faltantes, es posible que dentro de un registro haya campos faltantes. La función **isnull()** (alias de **isna()**) retorna un arreglo booleano que es **True** si el valor correspondiente está ausente, o es **numpy.NaN**.\n",
    "\n",
    "Es necesario deidir cómo tratar los campos faltantes. Si la decisión consiste en eliminar los registros que tengan al menos un dato faltante, puede usarse la función **dropna()**."
   ]
  },
  {
   "cell_type": "code",
   "execution_count": 14,
   "metadata": {},
   "outputs": [
    {
     "data": {
      "text/plain": [
       "T      0\n",
       "Ia     1\n",
       "Ib     0\n",
       "Ic     0\n",
       "S      0\n",
       "Q      0\n",
       "P      0\n",
       "Vab    0\n",
       "Vbc    0\n",
       "Vca    0\n",
       "dtype: int64"
      ]
     },
     "execution_count": 14,
     "metadata": {},
     "output_type": "execute_result"
    }
   ],
   "source": [
    "#DF.isnull()\n",
    "DF.isnull().sum()"
   ]
  },
  {
   "cell_type": "code",
   "execution_count": 26,
   "metadata": {},
   "outputs": [],
   "source": [
    "caliz = DF['Ia'].interpolate()  #Lo rellenamos con interpolación"
   ]
  },
  {
   "cell_type": "code",
   "execution_count": 27,
   "metadata": {},
   "outputs": [
    {
     "data": {
      "text/plain": [
       "<matplotlib.axes._subplots.AxesSubplot at 0x73b63c36c990>"
      ]
     },
     "execution_count": 27,
     "metadata": {},
     "output_type": "execute_result"
    },
    {
     "data": {
      "image/png": "[encoded data removed]",
      "text/plain": [
       "<Figure size 432x288 with 1 Axes>"
      ]
     },
     "metadata": {
      "needs_background": "light"
     },
     "output_type": "display_data"
    }
   ],
   "source": [
    "caliz.iloc[4820:4841].plot()"
   ]
  },
  {
   "cell_type": "code",
   "execution_count": 28,
   "metadata": {},
   "outputs": [
    {
     "data": {
      "text/plain": [
       "T      0\n",
       "Ia     0\n",
       "Ib     0\n",
       "Ic     0\n",
       "S      0\n",
       "Q      0\n",
       "P      0\n",
       "Vab    0\n",
       "Vbc    0\n",
       "Vca    0\n",
       "dtype: int64"
      ]
     },
     "execution_count": 28,
     "metadata": {},
     "output_type": "execute_result"
    }
   ],
   "source": [
    "DF.dropna(inplace=True)\n",
    "DF.isnull().sum()"
   ]
  },
  {
   "cell_type": "markdown",
   "metadata": {},
   "source": [
    "# 4. Verificaciones basadas en el conocimiento del dominio\n",
    "\n",
    "Es necesario aprovechar el conocimiento específico sobre el problema para detectar posibles errores en los datos disponibles.\n",
    "\n",
    "## 4.1. Visualización de cada variable\n",
    "\n",
    "Podemos trazar los histogramas y los diagramas de caja de cada variable por separado para tener una primera aproximación sobre sus valores.\n",
    "\n",
    "Conviene agrupar los diagramas en variables afines (comparables entre sí). En nuestro ejemplo, podemos agrupar las gráficas de tensiones, corrientes y potencias."
   ]
  },
  {
   "cell_type": "code",
   "execution_count": 29,
   "metadata": {},
   "outputs": [
    {
     "name": "stdout",
     "output_type": "stream",
     "text": [
      "Histogramas de tensiones:\n"
     ]
    },
    {
     "data": {
      "image/png": "[encoded data removed]",
      "text/plain": [
       "<Figure size 576x360 with 4 Axes>"
      ]
     },
     "metadata": {
      "needs_background": "light"
     },
     "output_type": "display_data"
    },
    {
     "name": "stdout",
     "output_type": "stream",
     "text": [
      "Histogramas de corrientes:\n"
     ]
    },
    {
     "data": {
      "image/png": "[encoded data removed]",
      "text/plain": [
       "<Figure size 576x360 with 4 Axes>"
      ]
     },
     "metadata": {
      "needs_background": "light"
     },
     "output_type": "display_data"
    },
    {
     "name": "stdout",
     "output_type": "stream",
     "text": [
      "Histogramas de potencias:\n"
     ]
    },
    {
     "data": {
      "image/png": "[encoded data removed]",
      "text/plain": [
       "<Figure size 576x360 with 4 Axes>"
      ]
     },
     "metadata": {
      "needs_background": "light"
     },
     "output_type": "display_data"
    }
   ],
   "source": [
    "DF[['Vab','Vbc','Vca']].hist(figsize=(8,5))\n",
    "print(\"Histogramas de tensiones:\")\n",
    "plt.show()\n",
    "print(\"Histogramas de corrientes:\")\n",
    "DF[['Ia','Ib','Ic']].hist(figsize=(8,5))\n",
    "plt.show()\n",
    "print(\"Histogramas de potencias:\")\n",
    "DF[['S','P','Q']].hist(figsize=(8,5))\n",
    "plt.show()"
   ]
  },
  {
   "cell_type": "code",
   "execution_count": 30,
   "metadata": {},
   "outputs": [
    {
     "name": "stdout",
     "output_type": "stream",
     "text": [
      "Diagrama de cajas de tensiones:\n"
     ]
    },
    {
     "data": {
      "image/png": "[encoded data removed]",
      "text/plain": [
       "<Figure size 432x288 with 1 Axes>"
      ]
     },
     "metadata": {
      "needs_background": "light"
     },
     "output_type": "display_data"
    },
    {
     "name": "stdout",
     "output_type": "stream",
     "text": [
      "Diagrama de cajas de corrientes:\n"
     ]
    },
    {
     "data": {
      "image/png": "[encoded data removed]",
      "text/plain": [
       "<Figure size 432x288 with 1 Axes>"
      ]
     },
     "metadata": {
      "needs_background": "light"
     },
     "output_type": "display_data"
    },
    {
     "name": "stdout",
     "output_type": "stream",
     "text": [
      "Diagrama de cajas de potencias:\n"
     ]
    },
    {
     "data": {
      "image/png": "[encoded data removed]",
      "text/plain": [
       "<Figure size 432x288 with 1 Axes>"
      ]
     },
     "metadata": {
      "needs_background": "light"
     },
     "output_type": "display_data"
    }
   ],
   "source": [
    "print(\"Diagrama de cajas de tensiones:\")\n",
    "DF[['Vab','Vbc','Vca']].boxplot()\n",
    "plt.show()\n",
    "print(\"Diagrama de cajas de corrientes:\")\n",
    "DF[['Ia','Ib','Ic']].boxplot()\n",
    "plt.show()\n",
    "print(\"Diagrama de cajas de potencias:\")\n",
    "DF[['S','P','Q']].boxplot()\n",
    "plt.show()"
   ]
  },
  {
   "cell_type": "markdown",
   "metadata": {},
   "source": [
    "## 4.2. Lecturas fuera del rango\n",
    "\n",
    "Una primera verificación consiste en buscar valores que estén por fuera del rango posible. Por ejemplo, si existen valores negativos para variables que solo puedan ser positivas."
   ]
  },
  {
   "cell_type": "code",
   "execution_count": 31,
   "metadata": {},
   "outputs": [
    {
     "data": {
      "text/html": [
       "<div>\n",
       "<style scoped>\n",
       "    .dataframe tbody tr th:only-of-type {\n",
       "        vertical-align: middle;\n",
       "    }\n",
       "\n",
       "    .dataframe tbody tr th {\n",
       "        vertical-align: top;\n",
       "    }\n",
       "\n",
       "    .dataframe thead th {\n",
       "        text-align: right;\n",
       "    }\n",
       "</style>\n",
       "<table border=\"1\" class=\"dataframe\">\n",
       "  <thead>\n",
       "    <tr style=\"text-align: right;\">\n",
       "      <th></th>\n",
       "      <th>Ia</th>\n",
       "      <th>Ib</th>\n",
       "      <th>Ic</th>\n",
       "      <th>S</th>\n",
       "      <th>Q</th>\n",
       "      <th>P</th>\n",
       "      <th>Vab</th>\n",
       "      <th>Vbc</th>\n",
       "      <th>Vca</th>\n",
       "    </tr>\n",
       "  </thead>\n",
       "  <tbody>\n",
       "    <tr>\n",
       "      <th>count</th>\n",
       "      <td>22416.000000</td>\n",
       "      <td>22416.000000</td>\n",
       "      <td>22416.000000</td>\n",
       "      <td>22416.000000</td>\n",
       "      <td>22416.000000</td>\n",
       "      <td>22416.000000</td>\n",
       "      <td>22416.000000</td>\n",
       "      <td>22416.000000</td>\n",
       "      <td>22416.000000</td>\n",
       "    </tr>\n",
       "    <tr>\n",
       "      <th>mean</th>\n",
       "      <td>61.810008</td>\n",
       "      <td>62.623628</td>\n",
       "      <td>61.781656</td>\n",
       "      <td>1206.739789</td>\n",
       "      <td>129.982215</td>\n",
       "      <td>1199.073917</td>\n",
       "      <td>11241.515239</td>\n",
       "      <td>11281.401320</td>\n",
       "      <td>11305.781581</td>\n",
       "    </tr>\n",
       "    <tr>\n",
       "      <th>std</th>\n",
       "      <td>23.375955</td>\n",
       "      <td>23.524791</td>\n",
       "      <td>23.273978</td>\n",
       "      <td>447.287611</td>\n",
       "      <td>77.245058</td>\n",
       "      <td>442.339751</td>\n",
       "      <td>124.864117</td>\n",
       "      <td>128.451599</td>\n",
       "      <td>128.644208</td>\n",
       "    </tr>\n",
       "    <tr>\n",
       "      <th>min</th>\n",
       "      <td>24.664812</td>\n",
       "      <td>26.232407</td>\n",
       "      <td>25.916203</td>\n",
       "      <td>-2215.108398</td>\n",
       "      <td>-19.621632</td>\n",
       "      <td>493.324463</td>\n",
       "      <td>10674.580078</td>\n",
       "      <td>10676.218750</td>\n",
       "      <td>10698.085938</td>\n",
       "    </tr>\n",
       "    <tr>\n",
       "      <th>25%</th>\n",
       "      <td>44.221636</td>\n",
       "      <td>44.772460</td>\n",
       "      <td>44.534078</td>\n",
       "      <td>871.486267</td>\n",
       "      <td>68.543005</td>\n",
       "      <td>868.582169</td>\n",
       "      <td>11161.538330</td>\n",
       "      <td>11201.273682</td>\n",
       "      <td>11224.914062</td>\n",
       "    </tr>\n",
       "    <tr>\n",
       "      <th>50%</th>\n",
       "      <td>50.276550</td>\n",
       "      <td>50.899647</td>\n",
       "      <td>50.434864</td>\n",
       "      <td>987.817871</td>\n",
       "      <td>112.698597</td>\n",
       "      <td>982.145905</td>\n",
       "      <td>11246.754883</td>\n",
       "      <td>11289.110840</td>\n",
       "      <td>11312.954590</td>\n",
       "    </tr>\n",
       "    <tr>\n",
       "      <th>75%</th>\n",
       "      <td>81.207094</td>\n",
       "      <td>82.207182</td>\n",
       "      <td>80.714903</td>\n",
       "      <td>1579.688782</td>\n",
       "      <td>184.000000</td>\n",
       "      <td>1568.394592</td>\n",
       "      <td>11328.356201</td>\n",
       "      <td>11370.660400</td>\n",
       "      <td>11394.140869</td>\n",
       "    </tr>\n",
       "    <tr>\n",
       "      <th>max</th>\n",
       "      <td>128.927322</td>\n",
       "      <td>130.877411</td>\n",
       "      <td>129.722717</td>\n",
       "      <td>2462.354492</td>\n",
       "      <td>360.692780</td>\n",
       "      <td>2441.354492</td>\n",
       "      <td>11717.961914</td>\n",
       "      <td>11771.569336</td>\n",
       "      <td>11765.741211</td>\n",
       "    </tr>\n",
       "  </tbody>\n",
       "</table>\n",
       "</div>"
      ],
      "text/plain": [
       "                 Ia            Ib            Ic             S             Q  \\\n",
       "count  22416.000000  22416.000000  22416.000000  22416.000000  22416.000000   \n",
       "mean      61.810008     62.623628     61.781656   1206.739789    129.982215   \n",
       "std       23.375955     23.524791     23.273978    447.287611     77.245058   \n",
       "min       24.664812     26.232407     25.916203  -2215.108398    -19.621632   \n",
       "25%       44.221636     44.772460     44.534078    871.486267     68.543005   \n",
       "50%       50.276550     50.899647     50.434864    987.817871    112.698597   \n",
       "75%       81.207094     82.207182     80.714903   1579.688782    184.000000   \n",
       "max      128.927322    130.877411    129.722717   2462.354492    360.692780   \n",
       "\n",
       "                  P           Vab           Vbc           Vca  \n",
       "count  22416.000000  22416.000000  22416.000000  22416.000000  \n",
       "mean    1199.073917  11241.515239  11281.401320  11305.781581  \n",
       "std      442.339751    124.864117    128.451599    128.644208  \n",
       "min      493.324463  10674.580078  10676.218750  10698.085938  \n",
       "25%      868.582169  11161.538330  11201.273682  11224.914062  \n",
       "50%      982.145905  11246.754883  11289.110840  11312.954590  \n",
       "75%     1568.394592  11328.356201  11370.660400  11394.140869  \n",
       "max     2441.354492  11717.961914  11771.569336  11765.741211  "
      ]
     },
     "execution_count": 31,
     "metadata": {},
     "output_type": "execute_result"
    }
   ],
   "source": [
    "DF.describe()"
   ]
  },
  {
   "cell_type": "markdown",
   "metadata": {},
   "source": [
    "## 4.3. Eliminación de datos fuera de rango\n",
    "\n",
    "En el ejemplo, se ha detectado la presencia de datos de potencia aparente ilógicos, porque esa variable no puede ser negativa. Para identificar cuántos y cuáles registros presentan ese error, podemos filtrar el *Dataframe* y luego tomar solo los registros en donde no sucede el error:"
   ]
  },
  {
   "cell_type": "code",
   "execution_count": 32,
   "metadata": {},
   "outputs": [
    {
     "data": {
      "text/html": [
       "<div>\n",
       "<style scoped>\n",
       "    .dataframe tbody tr th:only-of-type {\n",
       "        vertical-align: middle;\n",
       "    }\n",
       "\n",
       "    .dataframe tbody tr th {\n",
       "        vertical-align: top;\n",
       "    }\n",
       "\n",
       "    .dataframe thead th {\n",
       "        text-align: right;\n",
       "    }\n",
       "</style>\n",
       "<table border=\"1\" class=\"dataframe\">\n",
       "  <thead>\n",
       "    <tr style=\"text-align: right;\">\n",
       "      <th></th>\n",
       "      <th>T</th>\n",
       "      <th>Ia</th>\n",
       "      <th>Ib</th>\n",
       "      <th>Ic</th>\n",
       "      <th>S</th>\n",
       "      <th>Q</th>\n",
       "      <th>P</th>\n",
       "      <th>Vab</th>\n",
       "      <th>Vbc</th>\n",
       "      <th>Vca</th>\n",
       "    </tr>\n",
       "  </thead>\n",
       "  <tbody>\n",
       "    <tr>\n",
       "      <th>4837</th>\n",
       "      <td>2017-05-02 16:00:00</td>\n",
       "      <td>115.599998</td>\n",
       "      <td>116.492249</td>\n",
       "      <td>114.879852</td>\n",
       "      <td>-2215.108398</td>\n",
       "      <td>260.185974</td>\n",
       "      <td>2199.093018</td>\n",
       "      <td>11165.388672</td>\n",
       "      <td>11172.003906</td>\n",
       "      <td>11244.439453</td>\n",
       "    </tr>\n",
       "  </tbody>\n",
       "</table>\n",
       "</div>"
      ],
      "text/plain": [
       "                       T          Ia          Ib          Ic            S  \\\n",
       "4837 2017-05-02 16:00:00  115.599998  116.492249  114.879852 -2215.108398   \n",
       "\n",
       "               Q            P           Vab           Vbc           Vca  \n",
       "4837  260.185974  2199.093018  11165.388672  11172.003906  11244.439453  "
      ]
     },
     "execution_count": 32,
     "metadata": {},
     "output_type": "execute_result"
    }
   ],
   "source": [
    "DF[DF[\"S\"]<0]"
   ]
  },
  {
   "cell_type": "code",
   "execution_count": 52,
   "metadata": {},
   "outputs": [
    {
     "data": {
      "text/plain": [
       "T      2017-05-02 16:00:00\n",
       "Ia                   115.6\n",
       "Ib                 116.492\n",
       "Ic                  114.88\n",
       "S                  2214.43\n",
       "Q                  260.186\n",
       "P                  2199.09\n",
       "Vab                11165.4\n",
       "Vbc                  11172\n",
       "Vca                11244.4\n",
       "Name: 4837, dtype: object"
      ]
     },
     "execution_count": 52,
     "metadata": {},
     "output_type": "execute_result"
    }
   ],
   "source": [
    "#La potencia aparente compleja = raíz(P2 + Q2)\n",
    "import math\n",
    "\n",
    "caliz = DF.copy()\n",
    "caliz.loc[caliz[\"S\"]<0, 'S'] = math.sqrt(pow(caliz.loc[caliz[\"S\"]<0, 'P'], 2) + pow(caliz.loc[caliz[\"S\"]<0, 'Q'], 2))\n",
    "caliz.loc[4837]"
   ]
  },
  {
   "cell_type": "code",
   "execution_count": 53,
   "metadata": {},
   "outputs": [
    {
     "data": {
      "text/html": [
       "<div>\n",
       "<style scoped>\n",
       "    .dataframe tbody tr th:only-of-type {\n",
       "        vertical-align: middle;\n",
       "    }\n",
       "\n",
       "    .dataframe tbody tr th {\n",
       "        vertical-align: top;\n",
       "    }\n",
       "\n",
       "    .dataframe thead th {\n",
       "        text-align: right;\n",
       "    }\n",
       "</style>\n",
       "<table border=\"1\" class=\"dataframe\">\n",
       "  <thead>\n",
       "    <tr style=\"text-align: right;\">\n",
       "      <th></th>\n",
       "      <th>Ia</th>\n",
       "      <th>Ib</th>\n",
       "      <th>Ic</th>\n",
       "      <th>S</th>\n",
       "      <th>Q</th>\n",
       "      <th>P</th>\n",
       "      <th>Vab</th>\n",
       "      <th>Vbc</th>\n",
       "      <th>Vca</th>\n",
       "    </tr>\n",
       "  </thead>\n",
       "  <tbody>\n",
       "    <tr>\n",
       "      <th>count</th>\n",
       "      <td>22415.000000</td>\n",
       "      <td>22415.000000</td>\n",
       "      <td>22415.000000</td>\n",
       "      <td>22415.000000</td>\n",
       "      <td>22415.000000</td>\n",
       "      <td>22415.000000</td>\n",
       "      <td>22415.000000</td>\n",
       "      <td>22415.000000</td>\n",
       "      <td>22415.000000</td>\n",
       "    </tr>\n",
       "    <tr>\n",
       "      <th>mean</th>\n",
       "      <td>61.807609</td>\n",
       "      <td>62.621225</td>\n",
       "      <td>61.779287</td>\n",
       "      <td>1206.892448</td>\n",
       "      <td>129.976407</td>\n",
       "      <td>1199.029303</td>\n",
       "      <td>11241.518635</td>\n",
       "      <td>11281.406200</td>\n",
       "      <td>11305.784317</td>\n",
       "    </tr>\n",
       "    <tr>\n",
       "      <th>std</th>\n",
       "      <td>23.373715</td>\n",
       "      <td>23.522563</td>\n",
       "      <td>23.271795</td>\n",
       "      <td>446.713231</td>\n",
       "      <td>77.241885</td>\n",
       "      <td>442.299182</td>\n",
       "      <td>124.865867</td>\n",
       "      <td>128.452386</td>\n",
       "      <td>128.646425</td>\n",
       "    </tr>\n",
       "    <tr>\n",
       "      <th>min</th>\n",
       "      <td>24.664812</td>\n",
       "      <td>26.232407</td>\n",
       "      <td>25.916203</td>\n",
       "      <td>494.134186</td>\n",
       "      <td>-19.621632</td>\n",
       "      <td>493.324463</td>\n",
       "      <td>10674.580078</td>\n",
       "      <td>10676.218750</td>\n",
       "      <td>10698.085938</td>\n",
       "    </tr>\n",
       "    <tr>\n",
       "      <th>25%</th>\n",
       "      <td>44.221596</td>\n",
       "      <td>44.772448</td>\n",
       "      <td>44.533941</td>\n",
       "      <td>871.503479</td>\n",
       "      <td>68.542934</td>\n",
       "      <td>868.575287</td>\n",
       "      <td>11161.536621</td>\n",
       "      <td>11201.275391</td>\n",
       "      <td>11224.909180</td>\n",
       "    </tr>\n",
       "    <tr>\n",
       "      <th>50%</th>\n",
       "      <td>50.275703</td>\n",
       "      <td>50.899292</td>\n",
       "      <td>50.434849</td>\n",
       "      <td>987.918640</td>\n",
       "      <td>112.686523</td>\n",
       "      <td>982.136169</td>\n",
       "      <td>11246.764648</td>\n",
       "      <td>11289.119141</td>\n",
       "      <td>11312.956055</td>\n",
       "    </tr>\n",
       "    <tr>\n",
       "      <th>75%</th>\n",
       "      <td>81.206837</td>\n",
       "      <td>82.203106</td>\n",
       "      <td>80.709824</td>\n",
       "      <td>1579.754272</td>\n",
       "      <td>183.997177</td>\n",
       "      <td>1568.241333</td>\n",
       "      <td>11328.363770</td>\n",
       "      <td>11370.661621</td>\n",
       "      <td>11394.141113</td>\n",
       "    </tr>\n",
       "    <tr>\n",
       "      <th>max</th>\n",
       "      <td>128.927322</td>\n",
       "      <td>130.877411</td>\n",
       "      <td>129.722717</td>\n",
       "      <td>2462.354492</td>\n",
       "      <td>360.692780</td>\n",
       "      <td>2441.354492</td>\n",
       "      <td>11717.961914</td>\n",
       "      <td>11771.569336</td>\n",
       "      <td>11765.741211</td>\n",
       "    </tr>\n",
       "  </tbody>\n",
       "</table>\n",
       "</div>"
      ],
      "text/plain": [
       "                 Ia            Ib            Ic             S             Q  \\\n",
       "count  22415.000000  22415.000000  22415.000000  22415.000000  22415.000000   \n",
       "mean      61.807609     62.621225     61.779287   1206.892448    129.976407   \n",
       "std       23.373715     23.522563     23.271795    446.713231     77.241885   \n",
       "min       24.664812     26.232407     25.916203    494.134186    -19.621632   \n",
       "25%       44.221596     44.772448     44.533941    871.503479     68.542934   \n",
       "50%       50.275703     50.899292     50.434849    987.918640    112.686523   \n",
       "75%       81.206837     82.203106     80.709824   1579.754272    183.997177   \n",
       "max      128.927322    130.877411    129.722717   2462.354492    360.692780   \n",
       "\n",
       "                  P           Vab           Vbc           Vca  \n",
       "count  22415.000000  22415.000000  22415.000000  22415.000000  \n",
       "mean    1199.029303  11241.518635  11281.406200  11305.784317  \n",
       "std      442.299182    124.865867    128.452386    128.646425  \n",
       "min      493.324463  10674.580078  10676.218750  10698.085938  \n",
       "25%      868.575287  11161.536621  11201.275391  11224.909180  \n",
       "50%      982.136169  11246.764648  11289.119141  11312.956055  \n",
       "75%     1568.241333  11328.363770  11370.661621  11394.141113  \n",
       "max     2441.354492  11717.961914  11771.569336  11765.741211  "
      ]
     },
     "execution_count": 53,
     "metadata": {},
     "output_type": "execute_result"
    }
   ],
   "source": [
    "# El nuevo Data Frame\n",
    "DF=DF[DF[\"S\"]>=0].copy()\n",
    "\n",
    "#Verificación\n",
    "DF.describe()"
   ]
  },
  {
   "cell_type": "markdown",
   "metadata": {},
   "source": [
    "## 4.4. Factor de potencia\n",
    "Podemos calcular el factor de potencia, para darnos una mejor idea sobre las características técnicas de los datos. Una vez calculado, podemos graficar su evolución:\n",
    "\n",
    "Para calcular el factor de potencia se divide la potencia activa, sobre la potencia aparente"
   ]
  },
  {
   "cell_type": "code",
   "execution_count": 54,
   "metadata": {},
   "outputs": [
    {
     "data": {
      "text/plain": [
       "[<matplotlib.lines.Line2D at 0x73b63c2d6450>]"
      ]
     },
     "execution_count": 54,
     "metadata": {},
     "output_type": "execute_result"
    },
    {
     "data": {
      "image/png": "[encoded data removed]",
      "text/plain": [
       "<Figure size 432x288 with 1 Axes>"
      ]
     },
     "metadata": {
      "needs_background": "light"
     },
     "output_type": "display_data"
    }
   ],
   "source": [
    "fp1=DF['P']/DF['S']\n",
    "plt.plot(fp1)"
   ]
  },
  {
   "cell_type": "markdown",
   "metadata": {},
   "source": [
    "Hay un cambio evidente en un punto de la serie. Adeás, a partir de ese cambio aparecen valores absurdos del factor de potencia (mayores a 1).\n",
    "\n",
    "El factor de potencia no pueden ser mayores a 1.\n",
    "\n",
    "Para explorar ese fenómeno, podemos calcular el factor de potencia a partir de las mediciones de potencia reactiva y aparente.\n",
    "\n",
    "También se puede calcular el factor de potencia en base a la potencia activa y reactiva usando el coseno del acotangente de la reactiva / activa. Me imagino que no se usó porque sospechamos de la veracidad de la potencia activa."
   ]
  },
  {
   "cell_type": "code",
   "execution_count": 55,
   "metadata": {},
   "outputs": [
    {
     "data": {
      "text/plain": [
       "[<matplotlib.lines.Line2D at 0x73b63a9dde50>]"
      ]
     },
     "execution_count": 55,
     "metadata": {},
     "output_type": "execute_result"
    },
    {
     "data": {
      "image/png": "[encoded data removed]",
      "text/plain": [
       "<Figure size 432x288 with 1 Axes>"
      ]
     },
     "metadata": {
      "needs_background": "light"
     },
     "output_type": "display_data"
    }
   ],
   "source": [
    "tmp=DF['Q']/DF['S']\n",
    "fp2=np.cos(np.arcsin(tmp))\n",
    "plt.plot(fp2)"
   ]
  },
  {
   "cell_type": "markdown",
   "metadata": {},
   "source": [
    "Para comparar las dos versiones que hemos calculado del factor de potencia, trazamos dos nubes de puntos: una con todos los datos, y otra con los primeros 13000 datos (antes de la aparición de valores ilógicos)"
   ]
  },
  {
   "cell_type": "code",
   "execution_count": 56,
   "metadata": {},
   "outputs": [
    {
     "data": {
      "image/png": "[encoded data removed]",
      "text/plain": [
       "<Figure size 432x288 with 1 Axes>"
      ]
     },
     "metadata": {
      "needs_background": "light"
     },
     "output_type": "display_data"
    },
    {
     "data": {
      "image/png": "[encoded data removed]",
      "text/plain": [
       "<Figure size 432x288 with 1 Axes>"
      ]
     },
     "metadata": {
      "needs_background": "light"
     },
     "output_type": "display_data"
    }
   ],
   "source": [
    "plt.scatter(fp1,fp2,s=2,alpha=0.2)\n",
    "plt.title(\"Nube de puntos con todos los datos\")\n",
    "plt.show()\n",
    "plt.title(\"Nube de puntos con los primeros 13000 datos\")\n",
    "plt.scatter(fp1[0:13000],fp2[0:13000],s=2,alpha=0.2)\n",
    "plt.show()"
   ]
  },
  {
   "cell_type": "markdown",
   "metadata": {},
   "source": [
    "También podemos comparar las dos versiones del factor de potencia, calculamos el error relativo y lo graficamos:"
   ]
  },
  {
   "cell_type": "code",
   "execution_count": 20,
   "metadata": {},
   "outputs": [
    {
     "data": {
      "text/plain": [
       "[<matplotlib.lines.Line2D at 0x7f1efae80050>]"
      ]
     },
     "execution_count": 20,
     "metadata": {},
     "output_type": "execute_result"
    },
    {
     "data": {
      "image/png": "[encoded data removed]",
      "text/plain": [
       "<Figure size 432x288 with 1 Axes>"
      ]
     },
     "metadata": {
      "needs_background": "light"
     },
     "output_type": "display_data"
    }
   ],
   "source": [
    "Dfp=(fp1-fp2)/fp1*100;\n",
    "plt.plot(Dfp)"
   ]
  },
  {
   "cell_type": "markdown",
   "metadata": {},
   "source": [
    "# 4.5. Desbalance del sistema trifásico\n",
    "\n",
    "También podemos calcular los desbalances de corriente y tensión del sistema trifásico. Para ello, calculamos la mayor desviación del valor promedio de las mediciones. En el caso de las corrientes empleamos:\n",
    "\n",
    "$Im=\\frac{Ia + Ib + Ic}{3}$\n",
    "\n",
    "$dI=\\max_j \\frac{|Ij-Im|}{Im}$\n",
    "\n",
    "Y en el de las tensiones:\n",
    "\n",
    "$Vm=\\frac{Vab + Vbc + Vca}{3}$\n",
    "\n",
    "$dV=\\max_j \\frac{|Vj-Vm|}{Vm}$"
   ]
  },
  {
   "cell_type": "code",
   "execution_count": 58,
   "metadata": {},
   "outputs": [
    {
     "data": {
      "text/html": [
       "<div>\n",
       "<style scoped>\n",
       "    .dataframe tbody tr th:only-of-type {\n",
       "        vertical-align: middle;\n",
       "    }\n",
       "\n",
       "    .dataframe tbody tr th {\n",
       "        vertical-align: top;\n",
       "    }\n",
       "\n",
       "    .dataframe thead th {\n",
       "        text-align: right;\n",
       "    }\n",
       "</style>\n",
       "<table border=\"1\" class=\"dataframe\">\n",
       "  <thead>\n",
       "    <tr style=\"text-align: right;\">\n",
       "      <th></th>\n",
       "      <th>T</th>\n",
       "      <th>Ia</th>\n",
       "      <th>Ib</th>\n",
       "      <th>Ic</th>\n",
       "      <th>S</th>\n",
       "      <th>Q</th>\n",
       "      <th>P</th>\n",
       "      <th>Vab</th>\n",
       "      <th>Vbc</th>\n",
       "      <th>Vca</th>\n",
       "      <th>dI</th>\n",
       "      <th>dV</th>\n",
       "    </tr>\n",
       "  </thead>\n",
       "  <tbody>\n",
       "    <tr>\n",
       "      <th>0</th>\n",
       "      <td>2016-10-05 11:00:00</td>\n",
       "      <td>109.287041</td>\n",
       "      <td>110.147362</td>\n",
       "      <td>110.887047</td>\n",
       "      <td>2103.854248</td>\n",
       "      <td>277.951416</td>\n",
       "      <td>2085.457520</td>\n",
       "      <td>11013.016602</td>\n",
       "      <td>11043.222656</td>\n",
       "      <td>11054.016602</td>\n",
       "      <td>0.007448</td>\n",
       "      <td>0.002151</td>\n",
       "    </tr>\n",
       "    <tr>\n",
       "      <th>1</th>\n",
       "      <td>2016-10-05 12:00:00</td>\n",
       "      <td>111.300003</td>\n",
       "      <td>111.064903</td>\n",
       "      <td>113.138161</td>\n",
       "      <td>2197.022217</td>\n",
       "      <td>328.640533</td>\n",
       "      <td>2172.846680</td>\n",
       "      <td>11079.030273</td>\n",
       "      <td>11115.412109</td>\n",
       "      <td>11123.236328</td>\n",
       "      <td>0.011658</td>\n",
       "      <td>0.002419</td>\n",
       "    </tr>\n",
       "    <tr>\n",
       "      <th>2</th>\n",
       "      <td>2016-10-05 13:00:00</td>\n",
       "      <td>105.136642</td>\n",
       "      <td>105.236641</td>\n",
       "      <td>107.071754</td>\n",
       "      <td>2051.411865</td>\n",
       "      <td>302.450409</td>\n",
       "      <td>2028.595215</td>\n",
       "      <td>11192.564453</td>\n",
       "      <td>11220.931641</td>\n",
       "      <td>11235.480469</td>\n",
       "      <td>0.011877</td>\n",
       "      <td>0.002118</td>\n",
       "    </tr>\n",
       "  </tbody>\n",
       "</table>\n",
       "</div>"
      ],
      "text/plain": [
       "                    T          Ia          Ib          Ic            S  \\\n",
       "0 2016-10-05 11:00:00  109.287041  110.147362  110.887047  2103.854248   \n",
       "1 2016-10-05 12:00:00  111.300003  111.064903  113.138161  2197.022217   \n",
       "2 2016-10-05 13:00:00  105.136642  105.236641  107.071754  2051.411865   \n",
       "\n",
       "            Q            P           Vab           Vbc           Vca  \\\n",
       "0  277.951416  2085.457520  11013.016602  11043.222656  11054.016602   \n",
       "1  328.640533  2172.846680  11079.030273  11115.412109  11123.236328   \n",
       "2  302.450409  2028.595215  11192.564453  11220.931641  11235.480469   \n",
       "\n",
       "         dI        dV  \n",
       "0  0.007448  0.002151  \n",
       "1  0.011658  0.002419  \n",
       "2  0.011877  0.002118  "
      ]
     },
     "execution_count": 58,
     "metadata": {},
     "output_type": "execute_result"
    }
   ],
   "source": [
    "#Desbalance de corrientes\n",
    "Im=(DF['Ia'] + DF['Ib'] + DF['Ic'])/3\n",
    "DF['dIa']=np.abs(DF['Ia']-Im)/Im\n",
    "DF['dIb']=np.abs(DF['Ib']-Im)/Im\n",
    "DF['dIc']=np.abs(DF['Ic']-Im)/Im\n",
    "DF['dI']=DF[['dIa','dIb','dIc']].max(axis=1)\n",
    "DF.drop(columns=['dIa','dIb','dIc'],inplace=True)\n",
    "\n",
    "#Desbalance de tensiones\n",
    "Vm=(DF['Vab'] + DF['Vbc'] + DF['Vca'])/3\n",
    "DF['dVab']=np.abs(DF['Vab']-Vm)/Vm\n",
    "DF['dVbc']=np.abs(DF['Vbc']-Vm)/Vm\n",
    "DF['dVca']=np.abs(DF['Vca']-Vm)/Vm\n",
    "DF['dV']=DF[['dVab','dVbc','dVca']].max(axis=1)\n",
    "DF.drop(columns=['dVab','dVbc','dVca'],inplace=True)\n",
    "DF.head(3)"
   ]
  },
  {
   "cell_type": "markdown",
   "metadata": {},
   "source": [
    "Visualizamos ahora los desbalances usando histogramas y diagramas de cajas:"
   ]
  },
  {
   "cell_type": "code",
   "execution_count": 59,
   "metadata": {},
   "outputs": [
    {
     "name": "stdout",
     "output_type": "stream",
     "text": [
      "Histogramas de desbalances:\n"
     ]
    },
    {
     "data": {
      "image/png": "[encoded data removed]",
      "text/plain": [
       "<Figure size 720x288 with 2 Axes>"
      ]
     },
     "metadata": {
      "needs_background": "light"
     },
     "output_type": "display_data"
    },
    {
     "data": {
      "image/png": "[encoded data removed]",
      "text/plain": [
       "<Figure size 432x288 with 1 Axes>"
      ]
     },
     "metadata": {
      "needs_background": "light"
     },
     "output_type": "display_data"
    }
   ],
   "source": [
    "DF[['dI','dV']].hist(figsize=(10,4))\n",
    "print(\"Histogramas de desbalances:\")\n",
    "plt.show()\n",
    "DF[['dI','dV']].boxplot()\n",
    "plt.title(\"Diagrama de cajas de desbalances\")\n",
    "plt.show()"
   ]
  },
  {
   "cell_type": "markdown",
   "metadata": {},
   "source": [
    "¿Estarán relacionados los dos desbalances?"
   ]
  },
  {
   "cell_type": "code",
   "execution_count": 60,
   "metadata": {},
   "outputs": [
    {
     "data": {
      "image/png": "[encoded data removed]",
      "text/plain": [
       "<Figure size 432x288 with 1 Axes>"
      ]
     },
     "metadata": {
      "needs_background": "light"
     },
     "output_type": "display_data"
    }
   ],
   "source": [
    "plt.scatter(DF['dI'],DF['dV'],s=1,alpha=0.2)\n",
    "plt.show()\n"
   ]
  },
  {
   "cell_type": "markdown",
   "metadata": {},
   "source": [
    "# 5. Ejercicio sugerido\n",
    "\n",
    "El archivo *dataEj.csv* está codificado en *UTF-8*, los campos están separados por el caracter ';', y usa como separador de punto decimal el punto ('.').\n",
    "\n",
    "Construya un dataframe con los datos del archivo *dataEj.csv* y determine:\n",
    "* El número de columnas y filas en el archivo.\n",
    "* Cuántos datos faltantes hay.\n",
    "* El número de datos negativos en la columna maracada como 'P', que representa la potencia activa.\n"
   ]
  },
  {
   "cell_type": "code",
   "execution_count": 65,
   "metadata": {},
   "outputs": [
    {
     "data": {
      "text/html": [
       "<div>\n",
       "<style scoped>\n",
       "    .dataframe tbody tr th:only-of-type {\n",
       "        vertical-align: middle;\n",
       "    }\n",
       "\n",
       "    .dataframe tbody tr th {\n",
       "        vertical-align: top;\n",
       "    }\n",
       "\n",
       "    .dataframe thead th {\n",
       "        text-align: right;\n",
       "    }\n",
       "</style>\n",
       "<table border=\"1\" class=\"dataframe\">\n",
       "  <thead>\n",
       "    <tr style=\"text-align: right;\">\n",
       "      <th></th>\n",
       "      <th>FECHA_HORA</th>\n",
       "      <th>IA</th>\n",
       "      <th>IB</th>\n",
       "      <th>IC</th>\n",
       "      <th>S</th>\n",
       "      <th>Q</th>\n",
       "      <th>P</th>\n",
       "      <th>VAB</th>\n",
       "      <th>VBC</th>\n",
       "      <th>VCA</th>\n",
       "    </tr>\n",
       "  </thead>\n",
       "  <tbody>\n",
       "    <tr>\n",
       "      <th>0</th>\n",
       "      <td>2016-10-05 11:00:00</td>\n",
       "      <td>109.287041</td>\n",
       "      <td>110.147362</td>\n",
       "      <td>110.887047</td>\n",
       "      <td>2103.854248</td>\n",
       "      <td>277.951416</td>\n",
       "      <td>2085.457520</td>\n",
       "      <td>11013.016602</td>\n",
       "      <td>11043.222656</td>\n",
       "      <td>11054.016602</td>\n",
       "    </tr>\n",
       "    <tr>\n",
       "      <th>1</th>\n",
       "      <td>2016-10-05 12:00:00</td>\n",
       "      <td>111.300003</td>\n",
       "      <td>111.064903</td>\n",
       "      <td>113.138161</td>\n",
       "      <td>2197.022217</td>\n",
       "      <td>328.640533</td>\n",
       "      <td>2172.846680</td>\n",
       "      <td>11079.030273</td>\n",
       "      <td>11115.412109</td>\n",
       "      <td>11123.236328</td>\n",
       "    </tr>\n",
       "    <tr>\n",
       "      <th>2</th>\n",
       "      <td>2016-10-05 13:00:00</td>\n",
       "      <td>105.136642</td>\n",
       "      <td>105.236641</td>\n",
       "      <td>107.071754</td>\n",
       "      <td>2051.411865</td>\n",
       "      <td>302.450409</td>\n",
       "      <td>2028.595215</td>\n",
       "      <td>11192.564453</td>\n",
       "      <td>11220.931641</td>\n",
       "      <td>11235.480469</td>\n",
       "    </tr>\n",
       "    <tr>\n",
       "      <th>3</th>\n",
       "      <td>2016-10-05 14:00:00</td>\n",
       "      <td>99.702164</td>\n",
       "      <td>100.220459</td>\n",
       "      <td>100.730118</td>\n",
       "      <td>1954.322754</td>\n",
       "      <td>312.440918</td>\n",
       "      <td>1929.322754</td>\n",
       "      <td>11219.440430</td>\n",
       "      <td>11249.860352</td>\n",
       "      <td>11258.581055</td>\n",
       "    </tr>\n",
       "    <tr>\n",
       "      <th>4</th>\n",
       "      <td>2016-10-05 15:00:00</td>\n",
       "      <td>106.306900</td>\n",
       "      <td>103.913803</td>\n",
       "      <td>105.711502</td>\n",
       "      <td>2033.672485</td>\n",
       "      <td>305.138031</td>\n",
       "      <td>2011.672485</td>\n",
       "      <td>11178.465820</td>\n",
       "      <td>11216.954102</td>\n",
       "      <td>11220.976562</td>\n",
       "    </tr>\n",
       "    <tr>\n",
       "      <th>...</th>\n",
       "      <td>...</td>\n",
       "      <td>...</td>\n",
       "      <td>...</td>\n",
       "      <td>...</td>\n",
       "      <td>...</td>\n",
       "      <td>...</td>\n",
       "      <td>...</td>\n",
       "      <td>...</td>\n",
       "      <td>...</td>\n",
       "      <td>...</td>\n",
       "    </tr>\n",
       "    <tr>\n",
       "      <th>1958</th>\n",
       "      <td>2017-01-01 19:00:00</td>\n",
       "      <td>38.680859</td>\n",
       "      <td>37.808941</td>\n",
       "      <td>37.708942</td>\n",
       "      <td>742.336304</td>\n",
       "      <td>6.685142</td>\n",
       "      <td>742.336304</td>\n",
       "      <td>11303.113281</td>\n",
       "      <td>11347.238281</td>\n",
       "      <td>11387.447266</td>\n",
       "    </tr>\n",
       "    <tr>\n",
       "      <th>1959</th>\n",
       "      <td>2017-01-01 20:00:00</td>\n",
       "      <td>39.487560</td>\n",
       "      <td>37.400002</td>\n",
       "      <td>38.426796</td>\n",
       "      <td>754.679443</td>\n",
       "      <td>8.000000</td>\n",
       "      <td>754.679443</td>\n",
       "      <td>11296.300781</td>\n",
       "      <td>11338.055664</td>\n",
       "      <td>11375.914062</td>\n",
       "    </tr>\n",
       "    <tr>\n",
       "      <th>1960</th>\n",
       "      <td>2017-01-01 21:00:00</td>\n",
       "      <td>40.859898</td>\n",
       "      <td>39.119797</td>\n",
       "      <td>39.475838</td>\n",
       "      <td>775.835449</td>\n",
       "      <td>19.318766</td>\n",
       "      <td>775.835449</td>\n",
       "      <td>11289.489258</td>\n",
       "      <td>11328.873047</td>\n",
       "      <td>11364.380859</td>\n",
       "    </tr>\n",
       "    <tr>\n",
       "      <th>1961</th>\n",
       "      <td>2017-01-01 22:00:00</td>\n",
       "      <td>38.787544</td>\n",
       "      <td>36.541130</td>\n",
       "      <td>37.960754</td>\n",
       "      <td>741.109436</td>\n",
       "      <td>0.822641</td>\n",
       "      <td>741.109436</td>\n",
       "      <td>11282.676758</td>\n",
       "      <td>11319.690430</td>\n",
       "      <td>11352.847656</td>\n",
       "    </tr>\n",
       "    <tr>\n",
       "      <th>1962</th>\n",
       "      <td>2017-01-01 23:00:00</td>\n",
       "      <td>38.978493</td>\n",
       "      <td>37.478493</td>\n",
       "      <td>37.978493</td>\n",
       "      <td>744.052856</td>\n",
       "      <td>8.464148</td>\n",
       "      <td>743.320740</td>\n",
       "      <td>11275.864258</td>\n",
       "      <td>11310.508789</td>\n",
       "      <td>11341.314453</td>\n",
       "    </tr>\n",
       "  </tbody>\n",
       "</table>\n",
       "<p>1963 rows × 10 columns</p>\n",
       "</div>"
      ],
      "text/plain": [
       "              FECHA_HORA          IA          IB          IC            S  \\\n",
       "0    2016-10-05 11:00:00  109.287041  110.147362  110.887047  2103.854248   \n",
       "1    2016-10-05 12:00:00  111.300003  111.064903  113.138161  2197.022217   \n",
       "2    2016-10-05 13:00:00  105.136642  105.236641  107.071754  2051.411865   \n",
       "3    2016-10-05 14:00:00   99.702164  100.220459  100.730118  1954.322754   \n",
       "4    2016-10-05 15:00:00  106.306900  103.913803  105.711502  2033.672485   \n",
       "...                  ...         ...         ...         ...          ...   \n",
       "1958 2017-01-01 19:00:00   38.680859   37.808941   37.708942   742.336304   \n",
       "1959 2017-01-01 20:00:00   39.487560   37.400002   38.426796   754.679443   \n",
       "1960 2017-01-01 21:00:00   40.859898   39.119797   39.475838   775.835449   \n",
       "1961 2017-01-01 22:00:00   38.787544   36.541130   37.960754   741.109436   \n",
       "1962 2017-01-01 23:00:00   38.978493   37.478493   37.978493   744.052856   \n",
       "\n",
       "               Q            P           VAB           VBC           VCA  \n",
       "0     277.951416  2085.457520  11013.016602  11043.222656  11054.016602  \n",
       "1     328.640533  2172.846680  11079.030273  11115.412109  11123.236328  \n",
       "2     302.450409  2028.595215  11192.564453  11220.931641  11235.480469  \n",
       "3     312.440918  1929.322754  11219.440430  11249.860352  11258.581055  \n",
       "4     305.138031  2011.672485  11178.465820  11216.954102  11220.976562  \n",
       "...          ...          ...           ...           ...           ...  \n",
       "1958    6.685142   742.336304  11303.113281  11347.238281  11387.447266  \n",
       "1959    8.000000   754.679443  11296.300781  11338.055664  11375.914062  \n",
       "1960   19.318766   775.835449  11289.489258  11328.873047  11364.380859  \n",
       "1961    0.822641   741.109436  11282.676758  11319.690430  11352.847656  \n",
       "1962    8.464148   743.320740  11275.864258  11310.508789  11341.314453  \n",
       "\n",
       "[1963 rows x 10 columns]"
      ]
     },
     "execution_count": 65,
     "metadata": {},
     "output_type": "execute_result"
    }
   ],
   "source": [
    "DF2 = pd.read_csv(\"dataEj.csv\", sep=\";\", decimal=\".\", parse_dates=[['FECHA', 'HORA']], encoding=\"UTF-8\")\n",
    "DF2"
   ]
  },
  {
   "cell_type": "code",
   "execution_count": 73,
   "metadata": {},
   "outputs": [
    {
     "name": "stdout",
     "output_type": "stream",
     "text": [
      "El número de columnas y filas en el archivo.\n",
      "\n",
      "Filas:  22415\n",
      "\n",
      "Columnas:  12\n"
     ]
    }
   ],
   "source": [
    "print('El número de columnas y filas en el archivo.')\n",
    "print('\\nFilas: ', DF.shape[0])\n",
    "print('\\nColumnas: ', DF.shape[1])"
   ]
  },
  {
   "cell_type": "code",
   "execution_count": 79,
   "metadata": {},
   "outputs": [
    {
     "name": "stdout",
     "output_type": "stream",
     "text": [
      "Datos Faltantes: \n"
     ]
    },
    {
     "data": {
      "text/plain": [
       "T      0\n",
       "Ia     0\n",
       "Ib     0\n",
       "Ic     0\n",
       "S      0\n",
       "Q      0\n",
       "P      0\n",
       "Vab    0\n",
       "Vbc    0\n",
       "Vca    0\n",
       "dI     0\n",
       "dV     0\n",
       "dtype: int64"
      ]
     },
     "execution_count": 79,
     "metadata": {},
     "output_type": "execute_result"
    }
   ],
   "source": [
    "print('Datos Faltantes: ')\n",
    "DF.isnull().sum()"
   ]
  },
  {
   "cell_type": "code",
   "execution_count": 83,
   "metadata": {},
   "outputs": [
    {
     "data": {
      "text/plain": [
       "T      0\n",
       "Ia     0\n",
       "Ib     0\n",
       "Ic     0\n",
       "S      0\n",
       "Q      0\n",
       "P      0\n",
       "Vab    0\n",
       "Vbc    0\n",
       "Vca    0\n",
       "dI     0\n",
       "dV     0\n",
       "dtype: int64"
      ]
     },
     "execution_count": 83,
     "metadata": {},
     "output_type": "execute_result"
    }
   ],
   "source": [
    "DF[DF['P']<0].count()"
   ]
  }
 ],
 "metadata": {
  "kernelspec": {
   "display_name": "Python 3",
   "language": "python",
   "name": "python3"
  },
  "language_info": {
   "codemirror_mode": {
    "name": "ipython",
    "version": 3
   },
   "file_extension": ".py",
   "mimetype": "text/x-python",
   "name": "python",
   "nbconvert_exporter": "python",
   "pygments_lexer": "ipython3",
   "version": "3.7.6"
  }
 },
 "nbformat": 4,
 "nbformat_minor": 4
}
