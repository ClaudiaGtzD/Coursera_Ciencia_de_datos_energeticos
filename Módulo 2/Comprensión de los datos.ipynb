{
 "cells": [
  {
   "cell_type": "markdown",
   "id": "10bdb592",
   "metadata": {},
   "source": [
    "# Comprensión de los datos\n",
    "\n",
    "## Atributos y calidad de los datos\n",
    "\n",
    "![CRISP-DM](CRISP-DM.PNG)\n",
    "\n",
    "Los datos pueden estar dispersos, incompletos, con errores, incompatibles, etc.\n",
    "\n",
    "Para la comprensión de los datos, considerar estos pasos:\n",
    "\n",
    "1. Atributos de los datos\n",
    "2. Calidad de los datos\n",
    "3. Valores atípicos (*outliers*)\n",
    "4. Valores faltantes\n",
    "5. Sistematización del proceso\n",
    "\n",
    "### Atributos de los datos\n",
    "\n",
    "**Categóricos o Nominales**: Un conjunto finito de posibles valores, conjuntos anidados\n",
    "\n",
    "**Ordinales**: Con un  orden adicional impuesto sobre el dominio. Ej. Clima, Frío, Templado, Cálido.\n",
    "\n",
    "**Numéricos Discretos**: Por ejemplo, mes del año.\n",
    "\n",
    "**Numéricos Continuos**: Valores dentro de intervalos, relacionales entre dos o más variabls, o con escalas absolutas, basadas en una sola variable.\n",
    "\n",
    "**Propiedades de datos numérico**: Unidades de medida, rango de validez, precisión y exactitud (la calidad), estáticos o dinámicos, muestreo, origen.\n",
    "\n",
    "### Calidad de los datos\n",
    "\n",
    "- Exactitud\n",
    "    - Sintáctica: Fuera de dominio: $P = verde(kW)$\n",
    "    - Semántica: En el dominio: Errores de mediciones\n",
    "- Completitud\n",
    "    - De valores: Variable no actualizada\n",
    "    - De registros: Pérdida de comunicación\n",
    "- Sesgos: Consumos en cuarentena\n",
    "- Desbalances: Estados de falla, accidentes\n",
    "- Obsolescencia: Ej. Accidentes por rayos"
   ]
  }
 ],
 "metadata": {
  "language_info": {
   "name": "python"
  }
 },
 "nbformat": 4,
 "nbformat_minor": 5
}
